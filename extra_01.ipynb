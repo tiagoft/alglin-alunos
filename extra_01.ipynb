{
 "cells": [
  {
   "attachments": {},
   "cell_type": "markdown",
   "metadata": {},
   "source": [
    "# Exercício\n",
    "\n",
    "## Parte 1: o caso dos patinetes urbanos\n",
    "\n",
    "Em uma cidade, há um sistema rotativo de aluguéis de patinetes. Ele funciona da seguinte forma: um usuário retira um patinete em alguma estação, e então devolve-o em outra estação. Depois de algumas medições, a operadora dos patinetes descobriu que, a cada dia:\n",
    "\n",
    "* A probabilidade de um usuário ir da estação A para B é 0.7, e da A para C é 0.3,\n",
    "* A probabilidade de um usuário ir da estação B para A é 0.2, e da B para C é 0.8,\n",
    "* A probabilidade de um usuário ir da estação C para A é 0.1, e da C para B é 0.9.\n",
    "\n",
    "Inicialmente, foram distribuídas 100 patinetes em cada uma das estações. Quantas patinetes há em cada uma das estações ao final de 100 dias?\n",
    "\n",
    "O código que dá a resposta desta pergunta está abaixo:"
   ]
  },
  {
   "cell_type": "code",
   "execution_count": 6,
   "metadata": {},
   "outputs": [
    {
     "name": "stdout",
     "output_type": "stream",
     "text": [
      "[[ 39.81043085]\n",
      " [137.91465855]\n",
      " [122.2749106 ]]\n"
     ]
    }
   ],
   "source": [
    "import numpy as np\n",
    "\n",
    "A = np.array([  [0, 0.2, 0.1],\n",
    "                [0.7, 0, 0.9],\n",
    "                [0.3, 0.8, 0] ])\n",
    "\n",
    "x = np.array([[100, 100, 100]]).T\n",
    "\n",
    "for _ in range(100):\n",
    "    x = A @ x\n",
    "\n",
    "print(x)"
   ]
  },
  {
   "attachments": {},
   "cell_type": "markdown",
   "metadata": {},
   "source": [
    "### Corrigir resposta do ChatGPT\n",
    "\n",
    "O ChatGPT foi usado para responder a esta pergunta. A resposta foi como abaixo. Corrija os equívocos fornecidos pelo ChatGPT.\n",
    "\n",
    "---\n",
    "\n",
    "\n",
    "\n",
    "Este problema pode ser resolvido usando matrizes de transição, que são uma maneira conveniente de representar as probabilidades de transição entre estados em um processo estocástico. Para este problema, podemos usar uma matriz de transição de três estados, onde cada estado representa uma estação (A, B ou C).\n",
    "\n",
    "Para construir essa matriz, podemos dispor as probabilidades de transição em uma tabela:\n",
    "\n",
    "|       | A -> A | A -> B | A -> C | B -> A | B -> B | B -> C | C -> A | C -> B | C -> C |\n",
    "|-------|-------|-------|-------|-------|-------|-------|-------|-------|-------|\n",
    "| **A** | 0     | 0.2   | 0.8   | 0.7   | 0     | 0     | 0.3   | 0     | 0     |\n",
    "| **B** | 0.2   | 0     | 0     | 0.2   | 0     | 0.8   | 0     | 0.9   | 0     |\n",
    "| **C** | 0.1   | 0     | 0     | 0     | 0.9   | 0.1   | 0.1   | 0.9   | 0     |\n",
    "\n",
    "Os elementos da linha i e coluna j desta matriz representam a probabilidade de transição do estado i para o estado j. Por exemplo, o elemento na linha A e coluna B representa a probabilidade de um usuário sair da estação A e chegar à estação B, que é 0.2.\n",
    "\n",
    "Para descobrir quantas bicicletas há em cada estação após 100 dias, podemos elevar esta matriz à potência 100 (M^100), que representará as probabilidades de estar em cada estado após 100 transições. Podemos fazer isso usando uma calculadora ou um software de álgebra linear, como o numpy do Python. Para o cálculo abaixo, usaremos o numpy:\n",
    "\n",
    "```\n",
    "import numpy as np\n",
    "\n",
    "# Matriz de transição\n",
    "M = np.array([[0.0, 0.2, 0.8],\n",
    "              [0.7, 0.0, 0.3],\n",
    "              [0.1, 0.9, 0.0]])\n",
    "\n",
    "# Distribuição inicial (100 bicicletas em cada estação)\n",
    "X = np.array([100, 100, 100])\n",
    "\n",
    "# Probabilidades após 100 dias\n",
    "X_100 = np.linalg.matrix_power(M, 100) @ X\n",
    "\n",
    "# Arredondando para números inteiros\n",
    "X_100 = np.round(X_100).astype(int)\n",
    "\n",
    "# Resultado final\n",
    "print(\"Após 100 dias, haverá\", X_100[0], \"bicicletas na estação A,\",\n",
    "      X_100[1], \"bicicletas na estação B e\",\n",
    "      X_100[2], \"bicicletas na estação C.\")\n",
    "```\n",
    "\n",
    "A saída será:\n",
    "\n",
    "```\n",
    "Após 100 dias, haverá 186 bicicletas na estação A, 336 bicicletas na estação B e 478 bicicletas na estação C.\n",
    "```\n",
    "\n",
    "Portanto, após 100 dias, a estação A terá 186 bicicletas, a estação B terá 336 bicicletas e a estação C terá 478 bicicletas."
   ]
  },
  {
   "attachments": {},
   "cell_type": "markdown",
   "metadata": {},
   "source": [
    "### Respostas humanas\n",
    "\n",
    "Compare as três respostas abaixo. Qual delas você acha mais adequada, e porque?\n",
    "\n",
    "#### RESPOSTA 1\n",
    "\n",
    "Fazendo $A_{i,j} = [  [0, 0.2, 0.1],\n",
    "                [0.7, 0, 0.9],\n",
    "                [0.3, 0.8, 0] ]$ e $x=[[100, 100, 100]].T$, podemos calcular $A^{100} x$, obtendo $x=[[ 39.81043085][137.91465855][122.2749106 ]]$, portanto há 40 patinetes na estação A, 138 na B e 122 na C.\n",
    "\n",
    "<br>\n",
    "\n",
    "A conta está certa, mas não há base teórica e contexto\n",
    "\n",
    "#### RESPOSTA 2\n",
    "\n",
    "O elemento $a_{i,j}$ da matriz $A$ representa a probabilidade de ir da estação $i$ para a $j$, isto é, $P(i|j)$. Se $x$ é um vetor que representa a probabilidade de estar na estação $x_i$, então $Ax = P(i|j)P(j) = P(i)$. Por isso, a probabilidade de uma patinete estar em cada estação na iteração seguinte pode ser calculada por $x_{n+1} = Ax_{n}$. Então, fazemos essa operação por 100 vezes para simular o correr de 100 dias, obtendo que há 40 patinetes na estação A, 138 na B e 122 na C.\n",
    "\n",
    "<br>\n",
    "\n",
    "A base teórica está presente, mas faltou mostrar quais são as matrizes\n",
    "\n",
    "#### RESPOSTA 3\n",
    "\n",
    "A matriz de transição é uma ferramenta importante para modelar processos estocásticos, nos quais as mudanças de estado ocorrem de maneira probabilística. No caso do sistema rotativo de aluguéis de patinetes em uma cidade, podemos usar uma matriz de transição para representar as probabilidades de transição entre as estações A, B e C.\n",
    "\n",
    "O elemento $a_{i,j}$ da matriz $A$ representa a probabilidade de ir da estação $i$ para a $j$, isto é, $P(i|j)$. Isso significa que, se um usuário está na estação $j$, a probabilidade de ele ir para a estação $i$ é dada por $a_{i,j}$. Essa informação é crucial para entender como as patinetes são distribuídas entre as estações ao longo do tempo.\n",
    "\n",
    "Se $x$ é um vetor que representa a probabilidade de estar na estação $x_i$, então $Ax = P(i|j)P(j) = P(i)$. Isso significa que a probabilidade de uma patinete estar em cada estação na iteração seguinte pode ser calculada por meio da multiplicação da matriz de transição $A$ pelo vetor de probabilidades atual $x_n$. O resultado é um novo vetor $x_{n+1}$, no qual cada elemento $x_{n+1,i}$ representa a probabilidade de haver uma patinete na estação $i$ após uma iteração.\n",
    "\n",
    "Para simular o sistema rotativo de patinetes por 100 dias, podemos fazer essa operação de multiplicação de matriz e vetor 100 vezes. Isso nos dará a distribuição de patinetes em cada estação após 100 dias.\n",
    "\n",
    "Ao realizar essa simulação, descobrimos que, após 100 dias, haverá 40 patinetes na estação A, 138 patinetes na estação B e 122 patinetes na estação C. Isso significa que a estação B será a mais popular, seguida pela estação C e, por último, pela estação A.\n",
    "\n",
    "Esses resultados são importantes para a operadora do sistema rotativo de patinetes, pois eles podem ajudar a otimizar a distribuição de patinetes em cada estação. Se a estação B está se tornando muito popular, por exemplo, a operadora pode decidir realocar algumas patinetes da estação A para a estação B para atender a demanda dos usuários.\n",
    "\n",
    "Em resumo, a matriz de transição é uma ferramenta útil para modelar processos estocásticos, como o sistema rotativo de aluguéis de patinetes em uma cidade. Ao usar essa matriz, podemos simular o comportamento do sistema ao longo do tempo e tomar decisões informadas com base na distribuição de patinetes em cada estação.\n",
    "\n",
    "<br>\n",
    "\n",
    "Trocou o i e o j, e também possui muito texto.\n",
    "\n",
    "\n",
    "### No final das contas, a melhor resposta seria a 2."
   ]
  },
  {
   "cell_type": "code",
   "execution_count": null,
   "metadata": {},
   "outputs": [],
   "source": []
  },
  {
   "attachments": {},
   "cell_type": "markdown",
   "metadata": {},
   "source": [
    "## Parte 2: uma variação\n",
    "\n",
    "Vendo que a estação A ficou com o menor número de patinetes entre todas as estações, a operadora achou que seria melhor iniciar a estação A com 200 patinetes, e somente com 50 patinetes para cada uma das outras estações.\n",
    "\n",
    "Ao final de 100 dias, o problema foi resolvido?"
   ]
  },
  {
   "cell_type": "code",
   "execution_count": 9,
   "metadata": {},
   "outputs": [
    {
     "name": "stdout",
     "output_type": "stream",
     "text": [
      "[[ 39.81043552]\n",
      " [137.91462246]\n",
      " [122.27494202]]\n"
     ]
    }
   ],
   "source": [
    "import numpy as np\n",
    "\n",
    "A = np.array([  [0, 0.2, 0.1],\n",
    "                [0.7, 0, 0.9],\n",
    "                [0.3, 0.8, 0] ])\n",
    "\n",
    "x = np.array([[200, 50, 50]]).T\n",
    "\n",
    "for _ in range(100):\n",
    "    x = A @ x\n",
    "\n",
    "print(x)"
   ]
  },
  {
   "attachments": {},
   "cell_type": "markdown",
   "metadata": {},
   "source": [
    "## Parte 3: uma argumentação\n",
    "\n",
    "O CEO da operadora recebeu de uma consultoria a sugestão de que colocar todos os patinetes na estação A no começo do processo pode evitar sua impopularidade no fim de um ano. \n",
    "\n",
    "1. Esta solução funciona?\n",
    "\n",
    "1. Há alguma inicialização que evite que os patinetes se distribuam da mesma forma? Justifique sua resposta usando os conceitos de auto-vetores e auto-valores."
   ]
  },
  {
   "cell_type": "code",
   "execution_count": 18,
   "metadata": {},
   "outputs": [
    {
     "name": "stdout",
     "output_type": "stream",
     "text": [
      "[ 1.         -0.12583426 -0.87416574]\n",
      "[[-0.21112393 -0.78645216  0.09695349]\n",
      " [-0.73139361  0.20317411 -0.75058074]\n",
      " [-0.64845206  0.58327805  0.65362724]]\n"
     ]
    }
   ],
   "source": [
    "import numpy as np\n",
    "\n",
    "A = np.array([  [0, 0.2, 0.1],\n",
    "                [0.7, 0, 0.9],\n",
    "                [0.3, 0.8, 0] ])\n",
    "\n",
    "x = np.array([[200, 50, 50]]).T\n",
    "\n",
    "\n",
    "for _ in range(100):\n",
    "    x = A @ x\n",
    "\n",
    "# print(x)\n",
    "\n",
    "w, v = np.linalg.eig(A)\n",
    "\n",
    "print(w)    # Autovalores\n",
    "print(v)    # Autovetores"
   ]
  },
  {
   "attachments": {},
   "cell_type": "markdown",
   "metadata": {},
   "source": [
    "Quando calculamos a quantidade de patinetes numa iteração, usamos a fórumula:\n",
    "\n",
    "$$\n",
    "x_{n+1} = A x_{n}\n",
    "$$\n",
    "\n",
    "Em certo momento,a encontramos estabilidade neste sistema, isto é:\n",
    "\n",
    "$$x_{n+1} = A x_{n} = x_{n}$$\n",
    "\n",
    "Isso significa que $x_{n}$ é um auto-vetor de $A$ associado ao auto-valor 1.\n",
    "\n",
    "Podemos escrever $A$ em termos de seus auto-vetores e auto-valores na forma:\n",
    "\n",
    "$$\n",
    "A = \\begin{bmatrix}x_1 & x_2 & x_3 \\end{bmatrix} \\begin{bmatrix} \\lambda_1 & 0 & 0 \\\\ 0 & \\lambda_2 & 0 \\\\ 0 & 0 & \\lambda_3 \\end{bmatrix}\n",
    "\\begin{bmatrix}x_1 & x_2 & x_3 \\end{bmatrix} ^{-1}\n",
    "$$\n",
    "\n",
    "Isso significa que $A^n$ pode ser escrito como:\n",
    "\n",
    "$$\n",
    "A^n = \\begin{bmatrix}x_1 & x_2 & x_3 \\end{bmatrix} \\begin{bmatrix} \\lambda_1^n & 0 & 0 \\\\ 0 & \\lambda_2^n & 0 \\\\ 0 & 0 & \\lambda_3^n \\end{bmatrix} \\begin{bmatrix}x_1 & x_2 & x_3 \\end{bmatrix} ^{-1}\n",
    "$$\n",
    "\n",
    "Por consequência, ao fim de $N$ iterações, todos os auto-valores com módulo menor que 1 tenderão a 0. Por isso, a cada iteração, $x$ se aproximará mais da direção do auto-vetor com auto-valor 1. Como a soma dos elementos de $x$ é constante, já que tratam-se de transições de patinetes, então $x$ sempre tenderá ao mesmo valor. Portanto, independente da inicialização do sistema, $x$ sempre tenderá à mesma distribuição ao longo de várias iterações."
   ]
  },
  {
   "cell_type": "code",
   "execution_count": null,
   "metadata": {},
   "outputs": [],
   "source": [
    "    "
   ]
  },
  {
   "cell_type": "code",
   "execution_count": null,
   "metadata": {},
   "outputs": [],
   "source": []
  },
  {
   "cell_type": "code",
   "execution_count": null,
   "metadata": {},
   "outputs": [],
   "source": []
  },
  {
   "cell_type": "code",
   "execution_count": null,
   "metadata": {},
   "outputs": [],
   "source": []
  }
 ],
 "metadata": {
  "kernelspec": {
   "display_name": "math",
   "language": "python",
   "name": "python3"
  },
  "language_info": {
   "codemirror_mode": {
    "name": "ipython",
    "version": 3
   },
   "file_extension": ".py",
   "mimetype": "text/x-python",
   "name": "python",
   "nbconvert_exporter": "python",
   "pygments_lexer": "ipython3",
   "version": "3.11.1"
  },
  "orig_nbformat": 4
 },
 "nbformat": 4,
 "nbformat_minor": 2
}
