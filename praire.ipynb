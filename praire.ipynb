{
 "cells": [
  {
   "cell_type": "code",
   "execution_count": 4,
   "metadata": {},
   "outputs": [
    {
     "name": "stdout",
     "output_type": "stream",
     "text": [
      "[[2.0722 1.9367 1.9167 2.0118 1.6308 1.8105 2.3982 1.3121 1.8283 2.0003\n",
      "  1.9182 1.6417]\n",
      " [3.404  3.7242 2.9388 3.5336 2.8469 3.5441 3.7127 2.1244 2.6823 3.0158\n",
      "  3.2117 3.0854]\n",
      " [2.0278 2.7986 2.0882 2.3811 1.9243 1.9859 2.7622 1.6327 1.6233 1.7495\n",
      "  1.8729 1.8591]\n",
      " [2.6459 3.6218 2.6677 3.2098 2.5096 2.82   3.4689 1.9523 2.455  2.5177\n",
      "  2.959  2.3218]\n",
      " [2.2997 2.8323 1.8729 2.4566 1.8611 2.4815 3.2059 1.6868 2.0556 1.6996\n",
      "  1.8545 2.1248]\n",
      " [2.2598 2.7826 2.5392 2.6226 2.142  2.5206 3.0838 1.7532 2.2861 2.3256\n",
      "  2.4252 1.6782]\n",
      " [1.5979 1.7675 1.5786 1.8231 1.3952 1.2983 1.8244 1.2677 1.1663 1.3529\n",
      "  1.4524 1.4178]\n",
      " [2.5706 3.4102 2.8059 2.8268 2.7266 2.2462 3.2745 1.9236 1.8268 2.2692\n",
      "  2.3834 2.4264]]\n"
     ]
    }
   ],
   "source": [
    "import numpy as np\n",
    "\n",
    "A = np.array([[0.24, 0.24, 0.17, 0.27, 0.12, 0.78, 0.86, 0.51, 0.08], [0.51, 0.91, 0.86, 0.32, 0.52, 0.61, 0.78, 0.67, 0.63], [0.92, 0.18, 0.34, 0.48, 0.41, 0.47, 0.47, 0.40, 0.23], [0.96, 0.17, 0.42, 0.74, 0.08, 0.77, 0.71, 0.76, 0.62], [0.96, 0.76, 0.92, 0.83, 0.04, 0.23, 0.59, 0.05, 0.10], [0.97, 0.51, 0.03, 0.50, 0.16, 0.47, 0.62, 0.87, 0.35], [0.21, 0.16, 0.29, 0.11, 0.53, 0.23, 0.62, 0.36, 0.10], [0.86, 0.36, 0.06, 0.41, 0.87, 0.69, 0.60, 0.24, 0.68]])\n",
    "B = np.array([[0.17, 0.93, 0.49, 0.57, 0.43, 0.52, 0.96, 0.57, 0.19, 0.23, 0.13, 0.16], [0.72, 0.04, 0.49, 0.12, 0.40, 0.95, 0.67, 0.10, 0.73, 0.70, 0.30, 0.41], [0.68, 0.96, 0.02, 0.84, 0.25, 0.87, 0.51, 0.36, 0.24, 0.28, 0.51, 0.98], [0.41, 0.53, 0.41, 0.35, 0.38, 0.07, 0.57, 0.22, 0.62, 0.07, 0.42, 0.35], [0.78, 0.93, 0.89, 0.74, 0.82, 0.19, 0.65, 0.63, 0.06, 0.40, 0.35, 0.91], [0.97, 0.68, 0.57, 0.33, 0.58, 0.76, 0.79, 0.07, 0.50, 0.95, 0.51, 0.96], [0.54, 0.46, 0.73, 0.91, 0.58, 0.21, 0.99, 0.80, 0.69, 0.54, 0.69, 0.27], [0.59, 0.56, 0.70, 0.83, 0.35, 0.89, 0.40, 0.39, 0.77, 0.84, 0.99, 0.24], [0.21, 0.93, 0.39, 0.71, 0.73, 0.51, 0.21, 0.17, 0.20, 0.36, 0.96, 0.39]])\n",
    "\n",
    "print(A @ B)"
   ]
  },
  {
   "cell_type": "code",
   "execution_count": 7,
   "metadata": {},
   "outputs": [
    {
     "name": "stdout",
     "output_type": "stream",
     "text": [
      "[[1.398398 0.913414 0.937737 0.988742 1.432257]\n",
      " [1.936756 1.217126 1.184151 1.23566  2.042355]\n",
      " [1.265961 0.850608 0.995639 1.143849 1.439475]\n",
      " [1.845596 1.19224  1.191642 1.234048 1.862322]\n",
      " [1.83916  1.215122 1.338296 1.483172 1.998297]]\n"
     ]
    }
   ],
   "source": [
    "import numpy as np\n",
    "\n",
    "A = np.array([[0.77, 0.31, 0.52, 0.00], [0.21, 0.13, 0.72, 0.74], [0.84, 0.07, 0.06, 0.91], [0.17, 0.71, 0.59, 0.10], [0.81, 0.32, 0.30, 0.84]])\n",
    "B = np.array([[0.11, 0.15, 0.22, 0.40], [0.51, 0.81, 0.51, 0.65], [0.70, 0.90, 0.71, 0.17], [0.41, 0.06, 0.57, 0.58]])\n",
    "C = np.array([[0.93, 0.51, 0.46, 0.42, 0.84], [0.31, 0.25, 0.24, 0.20, 0.15], [0.74, 0.37, 0.10, 0.05, 0.99], [0.10, 0.23, 0.65, 0.89, 0.18]])\n",
    "\n",
    "X = (A @ B) @ C\n",
    "print(X)"
   ]
  },
  {
   "cell_type": "code",
   "execution_count": 2,
   "metadata": {},
   "outputs": [
    {
     "name": "stdout",
     "output_type": "stream",
     "text": [
      "[[  1673920.27295214  20523727.504341  ]\n",
      " [ -1165728.00170557 -14292845.74539135]]\n"
     ]
    }
   ],
   "source": [
    "import numpy as np\n",
    "\n",
    "A = np.array([[0.40, 0.50], [1.30, 1.90]])\n",
    "B = np.array([[0.50, 0.50], [0.30, 1.10]])\n",
    "C = np.array([[0.50, 1.40], [1.50, 1.20]])\n",
    "\n",
    "\n",
    "print(np.linalg.solve((A @ B @ A @ B @ B @ A @ B @ A), C) )"
   ]
  },
  {
   "cell_type": "code",
   "execution_count": 3,
   "metadata": {},
   "outputs": [
    {
     "name": "stdout",
     "output_type": "stream",
     "text": [
      "[[ 1.25919118 -0.98192402]\n",
      " [-3.92463235  3.65655637]]\n",
      "[[ 1.25919118 -0.98192402]\n",
      " [-3.92463235  3.65655637]]\n"
     ]
    }
   ],
   "source": [
    "import numpy as np\n",
    "\n",
    "A = np.array([[0.90, 0.30], [1.70, 1.10]])\n",
    "B = np.array([[0.30, 1.90], [1.00, 1.80]])\n",
    "C = np.array([[0.20, 0.30], [1.70, 0.10]])\n",
    "\n",
    "# Y = np.linalg.solve(A,C).T\n",
    "# Z = np.linalg.solve(B.T,Y).T #X \n",
    "# print(Z)\n",
    "\n",
    "B_INV = np.linalg.inv(B)\n",
    "\n",
    "print(np.linalg.solve((A),(C @ B_INV)))\n",
    "\n"
   ]
  },
  {
   "cell_type": "code",
   "execution_count": 11,
   "metadata": {},
   "outputs": [
    {
     "name": "stdout",
     "output_type": "stream",
     "text": [
      "[ 1.36788355 -0.49577165  0.55778932 -0.97158701 -1.88484495  0.6199826\n",
      "  2.38065499]\n"
     ]
    }
   ],
   "source": [
    "  \n",
    "A = np.array([[2.3, 2.4, 0.7, 0.7, 9.2, 0.5, 9.1],\n",
    " [3.6, 6.3, 8.2, 8.4, 0.3, 0.4, 2.9],\n",
    " [1.7, 10.0, 4.9, 0.8, 0.7, 1.5, 2.8],\n",
    " [1.9, 9.3, 1.2, 7.8, 8.6, 5.1, 9.9],\n",
    " [9.2, 7.3, 4.3, 4.5, 3.6, 4.3, 2.7],\n",
    " [2.2, 9.1, 9.1, 4.5, 7.1, 6.4, 4.5],\n",
    " [6.7, 2.7, 4.2, 8.2, 0.9, 9.6, 0.9]]\n",
    ")\n",
    "\n",
    "B = np.array([6.3, 4.8, 5.6, 1.6, 9.3, 0.5, 8.6])\n",
    "\n",
    "print(np.linalg.solve(A,B))"
   ]
  },
  {
   "attachments": {},
   "cell_type": "markdown",
   "metadata": {},
   "source": [
    "## Praire 07"
   ]
  },
  {
   "cell_type": "code",
   "execution_count": 1,
   "metadata": {},
   "outputs": [
    {
     "name": "stdout",
     "output_type": "stream",
     "text": [
      "0.0003012636369999976\n"
     ]
    }
   ],
   "source": [
    "import numpy as np\n",
    "\n",
    "A = np.array([[1.00, 0.80, 0.60, 0.00, 0.20, 0.50, 0.80, 0.50, 0.10, 0.90, 0.50, 0.20], [0.30, 0.40, 0.00, 0.20, 0.40, 0.80, 0.40, 0.80, 0.60, 0.40, 0.90, 0.20], [0.10, 0.60, 0.10, 0.80, 0.30, 0.90, 0.70, 0.60, 0.60, 0.60, 0.80, 0.20], [0.80, 0.70, 0.30, 0.50, 0.20, 0.60, 0.80, 0.50, 0.40, 0.70, 0.60, 0.30], [0.60, 0.90, 0.30, 0.50, 0.80, 0.30, 0.80, 0.60, 0.80, 0.10, 0.60, 0.30], [0.40, 0.60, 0.80, 0.10, 0.10, 0.20, 0.60, 0.60, 0.90, 0.50, 0.20, 0.00], [0.10, 0.30, 0.80, 0.30, 0.50, 0.90, 0.10, 0.80, 0.10, 0.20, 0.80, 0.50], [0.50, 0.10, 0.80, 0.30, 0.00, 0.70, 0.60, 0.10, 0.30, 0.10, 0.10, 0.60], [0.90, 0.40, 0.90, 0.40, 0.90, 0.20, 0.90, 0.20, 0.30, 0.00, 0.70, 0.50], [0.40, 0.80, 0.30, 0.30, 0.30, 0.80, 0.30, 0.70, 0.60, 0.30, 0.50, 0.60], [0.30, 0.80, 0.20, 0.30, 0.90, 0.00, 0.30, 0.60, 0.90, 0.40, 1.00, 0.10], [0.40, 0.00, 0.70, 0.30, 0.40, 0.30, 0.10, 0.20, 0.80, 0.10, 0.30, 0.60]])\n",
    "print(np.linalg.det(A))"
   ]
  },
  {
   "cell_type": "code",
   "execution_count": 2,
   "metadata": {},
   "outputs": [
    {
     "name": "stdout",
     "output_type": "stream",
     "text": [
      "[ 1.33333333 -0.33333333]\n"
     ]
    }
   ],
   "source": [
    "A = np.array([[2,2],\n",
    "     [7,4]])\n",
    "Y = np.array([2,8])\n",
    "print(np.linalg.solve(A,Y))"
   ]
  },
  {
   "cell_type": "code",
   "execution_count": 5,
   "metadata": {},
   "outputs": [
    {
     "data": {
      "image/png": "[encoded data removed]",
      "text/plain": [
       "<Figure size 432x288 with 1 Axes>"
      ]
     },
     "metadata": {
      "needs_background": "light"
     },
     "output_type": "display_data"
    }
   ],
   "source": [
    "import matplotlib.pyplot as plt\n",
    "\n",
    "x = np.linspace(-1, 1, 100)\n",
    "y1 = (-4.30 * x + 6.6) / 2.2\n",
    "y2 = (3.44 * x + 6.3) / 1.76\n",
    "y3 = (9.9 * x + 6.3) / 1.2\n",
    "y4 = (3.20 * x + 4.2) / 2.2\n",
    "y5 = (8.90 * x + 6.9) / 1.6\n",
    "y6 = (8.20 * x + 0.7) / 6.60\n",
    "y7 = (2.15 * x + 6.9) / 1.1\n",
    "# plt.figure()\n",
    "# plt.plot(x, y1)\n",
    "# plt.plot(x, y2)\n",
    "# plt.plot(x, y3)\n",
    "# plt.plot(x, y4)\n",
    "# plt.plot(x, y5)\n",
    "# plt.plot(x, y6)\n",
    "# plt.plot(x, y7)\n",
    "# plt.legend(['y1','y2','y3','y4','y5','y6','y7'])\n",
    "# plt.show()"
   ]
  },
  {
   "attachments": {},
   "cell_type": "markdown",
   "metadata": {},
   "source": [
    "#### Q8 "
   ]
  },
  {
   "cell_type": "code",
   "execution_count": 3,
   "metadata": {},
   "outputs": [
    {
     "name": "stdout",
     "output_type": "stream",
     "text": [
      "1.0025\n",
      "0.4928\n",
      "0.5072\n"
     ]
    }
   ],
   "source": [
    "import numpy as np \n",
    "B = np.array( [[0.64, -0.77], [0.77, 0.64]]) \n",
    "C = np.array( [[0.77, 0], [0, 0.64]]) \n",
    "D = np.array( [[1, 0.77], [0.64, 1]]) \n",
    "\n",
    "\n",
    "# -----------------\n",
    "print(np.linalg.det(B)) # 1\n",
    "print(np.linalg.det(C)) # 1\n",
    "print(np.linalg.det(D)) # 1"
   ]
  },
  {
   "cell_type": "code",
   "execution_count": 26,
   "metadata": {},
   "outputs": [
    {
     "data": {
      "image/png": "[encoded data removed]",
      "text/plain": [
       "<Figure size 432x288 with 1 Axes>"
      ]
     },
     "metadata": {
      "needs_background": "light"
     },
     "output_type": "display_data"
    }
   ],
   "source": [
    "import numpy as np\n",
    "import matplotlib.pyplot as plt\n",
    "# Comece com esse código inicial!\n",
    "\n",
    "x = np.vstack( (np.random.uniform(-0.5, 0.5, size=(2, 600)), np.ones( (1,600) )))\n",
    "A = np.array( [[1, 0, -1], [0, 1, 1], [0, 0, 1]]) # translancao de (1,1) --> determinante é 1\n",
    "B = np.array( [[0.5, 0, 0], [0, 1, 0], [0, 0, 1]]) #rotacao \n",
    "\n",
    "C = np.array( [[1, 0, 0], [0, 1.5, 0], [0, 0, 1]]) #cizalhamento\n",
    "D = np.array( [[0.26, -0.97, 0], [0.97, 0.26, 0], [0, 0, 1]]) #expande nos 2x sentidos #contracao --> se der 0 nao é reversivel\n",
    "E = np.array( [[0.5, 0, 0], [0, 1, 0], [0, 0, 1]])\n",
    "F = np.array( [[1, 0, 0], [1, 1, 0], [0, 0, 1]])\n",
    "G = np.array( [[-0.87, -0.5, 0], [0.5, -0.87, 0], [0, 0, 1]])\n",
    "\n",
    "\n",
    "y = A @ B @ x # rotaciona e dps translada\n",
    "\n",
    "plt.figure()\n",
    "plt.scatter(x[0,:], x[1,:], s=1, c='r')\n",
    "plt.scatter(y[0,:], y[1,:], s=1, c='b')\n",
    "plt.xlim([-2, 2])\n",
    "plt.ylim([-2, 2])\n",
    "plt.grid()\n",
    "plt.show()"
   ]
  },
  {
   "cell_type": "code",
   "execution_count": 23,
   "metadata": {},
   "outputs": [
    {
     "data": {
      "image/png": "[encoded data removed]",
      "text/plain": [
       "<Figure size 432x288 with 1 Axes>"
      ]
     },
     "metadata": {
      "needs_background": "light"
     },
     "output_type": "display_data"
    }
   ],
   "source": [
    "import numpy as np\n",
    "import matplotlib.pyplot as plt\n",
    "# Comece com esse código inicial!\n",
    "\n",
    "x = np.vstack( (np.random.uniform(-0.5, 0.5, size=(2, 600)) ))\n",
    "A = np.array( [[0.94, 0], [0, 0.34]]) # translancao de (1,1) --> determinante é 1\n",
    "B = np.array( [[1, 0.94], [0.34, 1]]) #rotacao \n",
    "\n",
    "C = np.array( [[1, 0.77], [0.64, 1]]) #cizalhamento\n",
    "\n",
    "\n",
    "\n",
    "y =  C @ x # rotaciona e dps translada\n",
    "\n",
    "plt.figure()\n",
    "plt.scatter(x[0,:], x[1,:], s=1, c='r')\n",
    "plt.scatter(y[0,:], y[1,:], s=1, c='b')\n",
    "plt.xlim([-2, 2])\n",
    "plt.ylim([-2, 2])\n",
    "plt.grid()\n",
    "plt.show()"
   ]
  },
  {
   "cell_type": "code",
   "execution_count": 26,
   "metadata": {},
   "outputs": [
    {
     "name": "stdout",
     "output_type": "stream",
     "text": [
      "1.0\n",
      "0.9799999999999999\n",
      "1.0069\n",
      "4.0\n"
     ]
    },
    {
     "data": {
      "image/png": "[encoded data removed]",
      "text/plain": [
       "<Figure size 432x288 with 1 Axes>"
      ]
     },
     "metadata": {
      "needs_background": "light"
     },
     "output_type": "display_data"
    }
   ],
   "source": [
    "import numpy as np\n",
    "import matplotlib.pyplot as plt\n",
    "# Comece com esse código inicial!\n",
    "x = np.vstack( (np.random.uniform(-0.5, 0.5, size=(2, 600)), np.ones( (1,600) )))\n",
    "A = np.array( [[1, 0, 1], [0, 1, 1], [0, 0, 1]]) # translancao de (1,1) --> determinante é 1\n",
    "B = np.array( [[0.7, -0.7, 0], [0.7, 0.7, 0], [0, 0, 1]]) #rotacao \n",
    "C = np.array( [[1, 1, 0], [0, 1, 0], [0, 0, 1]]) #cizalhamento\n",
    "D = np.array( [[2, 0, 0], [0, 2, 0], [0, 0, 1]]) #expande nos 2x sentidos #contracao --> se der 0 nao é reversivel\n",
    "\n",
    "\n",
    "C = np.array( [[-0.87, 0.5, 0], [-0.5, -0.87, 0], [0, 0, 1]]) \n",
    "\n",
    "\n",
    "E = np.array( [[3, 0, 0], [0, 3, 0], [0, 0, 1]]) \n",
    "# Altere daqui para baixo\n",
    "# -----------------\n",
    "print(np.linalg.det(A)) # 1\n",
    "print(np.linalg.det(B)) # 1\n",
    "print(np.linalg.det(C)) # 1\n",
    "print(np.linalg.det(D)) # 4 \n",
    "y =  E @ x # rotaciona e dps translada\n",
    "# -----------------\n",
    "# Altere daqui para cima\n",
    "\n",
    "plt.figure()\n",
    "plt.scatter(x[0,:], x[1,:], s=1, c='r')\n",
    "plt.scatter(y[0,:], y[1,:], s=1, c='b')\n",
    "plt.xlim([-4, 4])\n",
    "plt.ylim([-4, 4])\n",
    "plt.grid()\n",
    "plt.show()"
   ]
  },
  {
   "attachments": {},
   "cell_type": "markdown",
   "metadata": {},
   "source": [
    "### QUIZ 10"
   ]
  },
  {
   "cell_type": "code",
   "execution_count": 1,
   "metadata": {},
   "outputs": [
    {
     "name": "stdout",
     "output_type": "stream",
     "text": [
      "[130.583  101.1218  33.7645]\n"
     ]
    }
   ],
   "source": [
    "import numpy as np\n",
    "\n",
    "A = np.array( [[0.299, 0.587, 0.144], [0.5959, -0.2746, -0.3213], [0.2115, -0.5227, 0.3112]] )\n",
    "RGB = np.array([246,79,74])\n",
    "\n",
    "RGB_T = RGB.T\n",
    "\n",
    "print(A @ RGB_T) #converteu de RGB pra YIB"
   ]
  },
  {
   "cell_type": "code",
   "execution_count": 10,
   "metadata": {},
   "outputs": [
    {
     "name": "stdout",
     "output_type": "stream",
     "text": [
      "[[ 88.68977376]\n",
      " [162.05068732]\n",
      " [ 58.10444964]]\n"
     ]
    }
   ],
   "source": [
    "A = np.array( [[-0.391,0.252,-0.106],[0.422,0.168,-0.427],[-0.470,0.016,-0.341]] ) \n",
    "RGB = np.array([[107,37,27]])\n",
    "\n",
    "RGB_T = RGB.T\n",
    "A_INV = np.linalg.inv(A)\n",
    "\n",
    "ALPHA = A @ RGB_T\n",
    "ALPHA[0][0] = 0\n",
    "\n",
    "print(A_INV @ ALPHA)\n",
    "\n",
    "\n"
   ]
  },
  {
   "attachments": {},
   "cell_type": "markdown",
   "metadata": {},
   "source": [
    "### QUIZ 11"
   ]
  },
  {
   "cell_type": "code",
   "execution_count": 61,
   "metadata": {},
   "outputs": [
    {
     "ename": "LinAlgError",
     "evalue": "Singular matrix",
     "output_type": "error",
     "traceback": [
      "\u001b[0;31m---------------------------------------------------------------------------\u001b[0m",
      "\u001b[0;31mLinAlgError\u001b[0m                               Traceback (most recent call last)",
      "\u001b[1;32m/Users/pedropertusi/Desktop/3o semestre/alglin-alunos/praire.ipynb Cell 19\u001b[0m in \u001b[0;36m<cell line: 13>\u001b[0;34m()\u001b[0m\n\u001b[1;32m      <a href='vscode-notebook-cell:/Users/pedropertusi/Desktop/3o%20semestre/alglin-alunos/praire.ipynb#X24sZmlsZQ%3D%3D?line=8'>9</a>\u001b[0m A \u001b[39m=\u001b[39m np\u001b[39m.\u001b[39mcolumn_stack((v1, v2, v3))\n\u001b[1;32m     <a href='vscode-notebook-cell:/Users/pedropertusi/Desktop/3o%20semestre/alglin-alunos/praire.ipynb#X24sZmlsZQ%3D%3D?line=9'>10</a>\u001b[0m l \u001b[39m=\u001b[39m A\u001b[39m.\u001b[39mT \u001b[39m@\u001b[39m A\n\u001b[0;32m---> <a href='vscode-notebook-cell:/Users/pedropertusi/Desktop/3o%20semestre/alglin-alunos/praire.ipynb#X24sZmlsZQ%3D%3D?line=12'>13</a>\u001b[0m P \u001b[39m=\u001b[39m A \u001b[39m@\u001b[39m np\u001b[39m.\u001b[39;49mlinalg\u001b[39m.\u001b[39;49minv(l)\n\u001b[1;32m     <a href='vscode-notebook-cell:/Users/pedropertusi/Desktop/3o%20semestre/alglin-alunos/praire.ipynb#X24sZmlsZQ%3D%3D?line=13'>14</a>\u001b[0m M \u001b[39m=\u001b[39m P\u001b[39m.\u001b[39mT\n",
      "File \u001b[0;32m<__array_function__ internals>:180\u001b[0m, in \u001b[0;36minv\u001b[0;34m(*args, **kwargs)\u001b[0m\n",
      "File \u001b[0;32m/Library/Frameworks/Python.framework/Versions/3.9/lib/python3.9/site-packages/numpy/linalg/linalg.py:552\u001b[0m, in \u001b[0;36minv\u001b[0;34m(a)\u001b[0m\n\u001b[1;32m    550\u001b[0m signature \u001b[39m=\u001b[39m \u001b[39m'\u001b[39m\u001b[39mD->D\u001b[39m\u001b[39m'\u001b[39m \u001b[39mif\u001b[39;00m isComplexType(t) \u001b[39melse\u001b[39;00m \u001b[39m'\u001b[39m\u001b[39md->d\u001b[39m\u001b[39m'\u001b[39m\n\u001b[1;32m    551\u001b[0m extobj \u001b[39m=\u001b[39m get_linalg_error_extobj(_raise_linalgerror_singular)\n\u001b[0;32m--> 552\u001b[0m ainv \u001b[39m=\u001b[39m _umath_linalg\u001b[39m.\u001b[39;49minv(a, signature\u001b[39m=\u001b[39;49msignature, extobj\u001b[39m=\u001b[39;49mextobj)\n\u001b[1;32m    553\u001b[0m \u001b[39mreturn\u001b[39;00m wrap(ainv\u001b[39m.\u001b[39mastype(result_t, copy\u001b[39m=\u001b[39m\u001b[39mFalse\u001b[39;00m))\n",
      "File \u001b[0;32m/Library/Frameworks/Python.framework/Versions/3.9/lib/python3.9/site-packages/numpy/linalg/linalg.py:89\u001b[0m, in \u001b[0;36m_raise_linalgerror_singular\u001b[0;34m(err, flag)\u001b[0m\n\u001b[1;32m     88\u001b[0m \u001b[39mdef\u001b[39;00m \u001b[39m_raise_linalgerror_singular\u001b[39m(err, flag):\n\u001b[0;32m---> 89\u001b[0m     \u001b[39mraise\u001b[39;00m LinAlgError(\u001b[39m\"\u001b[39m\u001b[39mSingular matrix\u001b[39m\u001b[39m\"\u001b[39m)\n",
      "\u001b[0;31mLinAlgError\u001b[0m: Singular matrix"
     ]
    }
   ],
   "source": [
    "import numpy as np\n",
    "\n",
    "x = np.array([[3, 3, 1, 5, 1, 1, 1, 9, 7, 6]])\n",
    "v1 = np.array([[2, 6, 5]])\n",
    "v2 = np.array([[3, 1, 0]])\n",
    "v3 = np.array([[6, 6, 4]])\n",
    "\n",
    "\n",
    "A = np.column_stack((v1, v2, v3))\n",
    "\n",
    "\n",
    "P = A @ np.linalg.inv(A @ A.T) @ A.T\n",
    "M = P.T\n",
    "\n"
   ]
  },
  {
   "cell_type": "code",
   "execution_count": 31,
   "metadata": {},
   "outputs": [
    {
     "data": {
      "text/plain": [
       "array([-0.4,  2.5])"
      ]
     },
     "execution_count": 31,
     "metadata": {},
     "output_type": "execute_result"
    }
   ],
   "source": [
    "x = np.array([8,3])\n",
    "v1 = np.array([5,5])\n",
    "v2 = np.array([4,2])\n",
    "V = np.array([[5,4],[5,2]])\n",
    "\n",
    "np.linalg.solve(V,x)"
   ]
  },
  {
   "cell_type": "code",
   "execution_count": 49,
   "metadata": {},
   "outputs": [
    {
     "data": {
      "text/plain": [
       "array([[-0.2,  0.3,  1.3],\n",
       "       [ 0. ,  0.3,  1.3],\n",
       "       [ 0. ,  0. ,  1. ]])"
      ]
     },
     "execution_count": 49,
     "metadata": {},
     "output_type": "execute_result"
    }
   ],
   "source": [
    "\n",
    "\n",
    "v = np.array([[0,0,1],[0,1,1],[1,1,1]])\n",
    "w = np.array([[1.3,1.6,1.4],[1.3,1.6,1.6],[1,1,1]])\n",
    "b = w @ np.linalg.inv(v)\n",
    "b"
   ]
  },
  {
   "cell_type": "code",
   "execution_count": 50,
   "metadata": {},
   "outputs": [
    {
     "data": {
      "text/plain": [
       "array([[ 0.69690558,  0.02496559, -0.13251481,  0.91684219, -0.18301541,\n",
       "         0.2522321 , -0.94649668,  0.69289945, -1.6855265 ,  1.36908369]])"
      ]
     },
     "execution_count": 50,
     "metadata": {},
     "output_type": "execute_result"
    }
   ],
   "source": [
    "import numpy as np\n",
    "\n",
    "x = np.array([[10,  8,  2,  6,  6, 10,  3,  9,  9,  4]])\n",
    "v = np.array([[6, 9, 3, 0, 5, 4, 5, 3, 8, 4], [0, 3, 2, 0, 6, 5, 3, 7, 3, 1], [1, 9, 6, 7, 5, 6, 0, 4, 4, 5], [3, 5, 2, 6, 8, 7, 2, 9, 1, 2], [3, 1, 6, 3, 2, 5, 2, 1, 0, 5], [2, 5, 1, 5, 9, 5, 2, 3, 3, 9], [6, 5, 8, 4, 3, 2, 0, 4, 5, 7], [3, 9, 3, 3, 0, 8, 0, 2, 5, 9], [0, 5, 1, 1, 2, 8, 8, 6, 2, 3], [5, 3, 5, 3, 0, 8, 8, 8, 5, 3]])\n",
    "\n",
    "y = x @ np.linalg.inv(v)\n",
    "y\n",
    "\n"
   ]
  },
  {
   "cell_type": "markdown",
   "metadata": {},
   "source": []
  }
 ],
 "metadata": {
  "kernelspec": {
   "display_name": "Python 3",
   "language": "python",
   "name": "python3"
  },
  "language_info": {
   "codemirror_mode": {
    "name": "ipython",
    "version": 3
   },
   "file_extension": ".py",
   "mimetype": "text/x-python",
   "name": "python",
   "nbconvert_exporter": "python",
   "pygments_lexer": "ipython3",
   "version": "3.9.10"
  },
  "orig_nbformat": 4,
  "vscode": {
   "interpreter": {
    "hash": "aee8b7b246df8f9039afb4144a1f6fd8d2ca17a180786b69acc140d282b71a49"
   }
  }
 },
 "nbformat": 4,
 "nbformat_minor": 2
}
