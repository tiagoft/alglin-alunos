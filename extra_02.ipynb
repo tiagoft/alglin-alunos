{
 "cells": [
  {
   "attachments": {},
   "cell_type": "markdown",
   "metadata": {},
   "source": [
    "### Tarefa: Re-estimar a gravidade"
   ]
  },
  {
   "cell_type": "code",
   "execution_count": 28,
   "metadata": {},
   "outputs": [],
   "source": [
    "import pandas as pd\n",
    "import autograd.numpy as np_\n",
    "from autograd import grad"
   ]
  },
  {
   "cell_type": "code",
   "execution_count": 29,
   "metadata": {},
   "outputs": [
    {
     "data": {
      "text/html": [
       "<div>\n",
       "<style scoped>\n",
       "    .dataframe tbody tr th:only-of-type {\n",
       "        vertical-align: middle;\n",
       "    }\n",
       "\n",
       "    .dataframe tbody tr th {\n",
       "        vertical-align: top;\n",
       "    }\n",
       "\n",
       "    .dataframe thead th {\n",
       "        text-align: right;\n",
       "    }\n",
       "</style>\n",
       "<table border=\"1\" class=\"dataframe\">\n",
       "  <thead>\n",
       "    <tr style=\"text-align: right;\">\n",
       "      <th></th>\n",
       "      <th>Objeto</th>\n",
       "      <th>Tempo (segundos)</th>\n",
       "      <th>T^2/2</th>\n",
       "      <th>Altura (cm)</th>\n",
       "    </tr>\n",
       "  </thead>\n",
       "  <tbody>\n",
       "    <tr>\n",
       "      <th>0</th>\n",
       "      <td>caneta</td>\n",
       "      <td>0.72</td>\n",
       "      <td>0.25920</td>\n",
       "      <td>185</td>\n",
       "    </tr>\n",
       "    <tr>\n",
       "      <th>1</th>\n",
       "      <td>canetao</td>\n",
       "      <td>0.47</td>\n",
       "      <td>0.11045</td>\n",
       "      <td>156</td>\n",
       "    </tr>\n",
       "    <tr>\n",
       "      <th>2</th>\n",
       "      <td>canetao</td>\n",
       "      <td>0.53</td>\n",
       "      <td>0.14045</td>\n",
       "      <td>156</td>\n",
       "    </tr>\n",
       "  </tbody>\n",
       "</table>\n",
       "</div>"
      ],
      "text/plain": [
       "    Objeto  Tempo (segundos)    T^2/2  Altura (cm)\n",
       "0  caneta               0.72  0.25920          185\n",
       "1  canetao              0.47  0.11045          156\n",
       "2  canetao              0.53  0.14045          156"
      ]
     },
     "execution_count": 29,
     "metadata": {},
     "output_type": "execute_result"
    }
   ],
   "source": [
    "df = pd.read_csv('jogadas.csv')\n",
    "df.head(3)"
   ]
  },
  {
   "cell_type": "code",
   "execution_count": 30,
   "metadata": {},
   "outputs": [
    {
     "data": {
      "text/html": [
       "<div>\n",
       "<style scoped>\n",
       "    .dataframe tbody tr th:only-of-type {\n",
       "        vertical-align: middle;\n",
       "    }\n",
       "\n",
       "    .dataframe tbody tr th {\n",
       "        vertical-align: top;\n",
       "    }\n",
       "\n",
       "    .dataframe thead th {\n",
       "        text-align: right;\n",
       "    }\n",
       "</style>\n",
       "<table border=\"1\" class=\"dataframe\">\n",
       "  <thead>\n",
       "    <tr style=\"text-align: right;\">\n",
       "      <th></th>\n",
       "      <th>Tempo (segundos)</th>\n",
       "      <th>T^2/2</th>\n",
       "      <th>Altura (cm)</th>\n",
       "    </tr>\n",
       "  </thead>\n",
       "  <tbody>\n",
       "    <tr>\n",
       "      <th>0</th>\n",
       "      <td>0.72</td>\n",
       "      <td>0.25920</td>\n",
       "      <td>185</td>\n",
       "    </tr>\n",
       "    <tr>\n",
       "      <th>1</th>\n",
       "      <td>0.47</td>\n",
       "      <td>0.11045</td>\n",
       "      <td>156</td>\n",
       "    </tr>\n",
       "    <tr>\n",
       "      <th>2</th>\n",
       "      <td>0.53</td>\n",
       "      <td>0.14045</td>\n",
       "      <td>156</td>\n",
       "    </tr>\n",
       "  </tbody>\n",
       "</table>\n",
       "</div>"
      ],
      "text/plain": [
       "   Tempo (segundos)    T^2/2  Altura (cm)\n",
       "0              0.72  0.25920          185\n",
       "1              0.47  0.11045          156\n",
       "2              0.53  0.14045          156"
      ]
     },
     "execution_count": 30,
     "metadata": {},
     "output_type": "execute_result"
    }
   ],
   "source": [
    "df = df.drop(columns=['Objeto'])\n",
    "df.head(3)"
   ]
  },
  {
   "attachments": {},
   "cell_type": "markdown",
   "metadata": {},
   "source": [
    "### y^ = ax"
   ]
  },
  {
   "cell_type": "code",
   "execution_count": 45,
   "metadata": {},
   "outputs": [
    {
     "data": {
      "text/plain": [
       "9.667252071796145"
      ]
     },
     "execution_count": 45,
     "metadata": {},
     "output_type": "execute_result"
    }
   ],
   "source": [
    "def erro(parametros):\n",
    "    a, x, y_medido = parametros\n",
    "    y_calculado = a * x\n",
    "    eqm = np_.mean((y_calculado - y_medido) ** 2.0)\n",
    "    return eqm\n",
    "\n",
    "ym = df['Altura (cm)'].values\n",
    "xm = df['T^2/2'].values\n",
    "\n",
    "ym = ym.astype(float) / 100\n",
    "\n",
    "g = grad(erro)\n",
    "\n",
    "a_modelo = 0.0\n",
    "\n",
    "a_list = []\n",
    "alpha = 0.1\n",
    "\n",
    "for i in range(100000):\n",
    "    da, dx, dy = g((a_modelo, xm, ym))\n",
    "    a_modelo = a_modelo - alpha * da\n",
    "    a_list.append(a_modelo)\n",
    "\n",
    "a_modelo"
   ]
  },
  {
   "attachments": {},
   "cell_type": "markdown",
   "metadata": {},
   "source": [
    "### y^ = ax + bx^2 + cx^3"
   ]
  },
  {
   "cell_type": "code",
   "execution_count": 46,
   "metadata": {},
   "outputs": [
    {
     "name": "stdout",
     "output_type": "stream",
     "text": [
      "16.725654286010233 -32.96923468259445 -13.132334974558432\n"
     ]
    }
   ],
   "source": [
    "def erro(parametros):\n",
    "    a, b, c, x, y_medido = parametros\n",
    "    y_calculado = a * x + b * x ** 2.0 + c * x ** 3.0\n",
    "    eqm = np_.mean((y_calculado - y_medido) ** 2.0)\n",
    "    return eqm\n",
    "\n",
    "ym = df['Altura (cm)'].values\n",
    "xm = df['T^2/2'].values\n",
    "\n",
    "ym = ym.astype(float) / 100\n",
    "\n",
    "g = grad(erro)\n",
    "\n",
    "a_modelo = 0.0\n",
    "b_modelo = 0.0\n",
    "c_modelo = 0.0\n",
    "\n",
    "a_list = []\n",
    "b_list = []\n",
    "c_list = []\n",
    "\n",
    "alpha = 0.1\n",
    "\n",
    "for i in range(100000):\n",
    "    da, db, dc, dx, dy = g((a_modelo, b_modelo, c_modelo, xm, ym))\n",
    "    a_modelo = a_modelo - alpha * da\n",
    "    b_modelo = b_modelo - alpha * db\n",
    "    c_modelo = c_modelo - alpha * dc\n",
    "    a_list.append(a_modelo)\n",
    "    b_list.append(b_modelo)\n",
    "    c_list.append(c_modelo)\n",
    "\n",
    "print(a_modelo, b_modelo, c_modelo)"
   ]
  },
  {
   "cell_type": "code",
   "execution_count": 49,
   "metadata": {},
   "outputs": [
    {
     "data": {
      "image/png": "[encoded data removed]",
      "text/plain": [
       "<Figure size 2000x600 with 1 Axes>"
      ]
     },
     "metadata": {},
     "output_type": "display_data"
    }
   ],
   "source": [
    "import matplotlib.pyplot as plt\n",
    "\n",
    "plt.figure(figsize=(20, 6))\n",
    "plt.plot(a_list, label='a')\n",
    "plt.plot(b_list, label='b')\n",
    "plt.plot(c_list, label='c')\n",
    "plt.title('Valores de a, b e c')\n",
    "plt.xlabel('Iterações')\n",
    "plt.ylabel('Valores')\n",
    "plt.legend()\n",
    "plt.show()"
   ]
  },
  {
   "cell_type": "code",
   "execution_count": null,
   "metadata": {},
   "outputs": [],
   "source": []
  }
 ],
 "metadata": {
  "kernelspec": {
   "display_name": "Python 3",
   "language": "python",
   "name": "python3"
  },
  "language_info": {
   "codemirror_mode": {
    "name": "ipython",
    "version": 3
   },
   "file_extension": ".py",
   "mimetype": "text/x-python",
   "name": "python",
   "nbconvert_exporter": "python",
   "pygments_lexer": "ipython3",
   "version": "3.11.1"
  },
  "orig_nbformat": 4
 },
 "nbformat": 4,
 "nbformat_minor": 2
}
