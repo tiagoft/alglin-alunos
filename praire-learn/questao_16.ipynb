{
 "cells": [
  {
   "attachments": {},
   "cell_type": "markdown",
   "metadata": {},
   "source": [
    "## Praire Learn 16"
   ]
  },
  {
   "attachments": {},
   "cell_type": "markdown",
   "metadata": {},
   "source": [
    "### Questão 1"
   ]
  },
  {
   "attachments": {},
   "cell_type": "markdown",
   "metadata": {},
   "source": [
    "Considerando um modelo Ax + B e as medidas xi, yi apresentadas abaixo:\n",
    "\n",
    "```python\n",
    "import numpy as np\n",
    "\n",
    "x = np.array([2.04, 2.56, 4.57, 5.06, 6.00, 7.37, 7.45, 7.98, 9.08, 9.10])\n",
    "y = np.array([27.65, 36.78, 45.87, 41.74, 44.14, 60.12, 55.18, 56.35, 68.12, 65.00])\n",
    "```\n",
    "\n",
    "Qual dos seguintes pares de coeficientes angulares e lineares apresenta o menor Erro Quadrático Médio?\n",
    "\n",
    "(a) A = 7.0, B = 11.0<br>\n",
    "(b) A = 4.0, B = 18.0<br>\n",
    "(c) A = 5.0, B = 14.0<br>\n",
    "(d) A = 2.0, B = 12.0<br>\n",
    "(e) A = 6.0, B = 19.0<br>\n"
   ]
  },
  {
   "cell_type": "code",
   "execution_count": 17,
   "metadata": {},
   "outputs": [
    {
     "name": "stdout",
     "output_type": "stream",
     "text": [
      "49.17383999999996\n",
      "74.23283\n",
      "41.250519999999995\n",
      "729.44939\n",
      "49.08218999999998\n"
     ]
    }
   ],
   "source": [
    "import numpy as np\n",
    "\n",
    "x = np.array([2.04, 2.56, 4.57, 5.06, 6.00, 7.37, 7.45, 7.98, 9.08, 9.10])\n",
    "y = np.array([27.65, 36.78, 45.87, 41.74, 44.14, 60.12, 55.18, 56.35, 68.12, 65.00])\n",
    "\n",
    "# y = ax + b\n",
    "\n",
    "def erro(parametros):\n",
    "    # erro quadrático médio\n",
    "    a, b = parametros\n",
    "    return np.mean((y - (a * x + b)) ** 2)\n",
    "\n",
    "print(erro([7, 11]))\n",
    "print(erro([4, 18]))\n",
    "print(erro([5, 14]))\n",
    "print(erro([2, 12]))\n",
    "print(erro([6, 19]))\n",
    "\n",
    "# Alternativa C (a = 5, b = 14)"
   ]
  },
  {
   "attachments": {},
   "cell_type": "markdown",
   "metadata": {},
   "source": [
    "### Questão 2"
   ]
  },
  {
   "attachments": {},
   "cell_type": "markdown",
   "metadata": {},
   "source": [
    "Considerando um modelo Ax + B e as medidas xi, yi apresentadas abaixo:\n",
    "\n",
    "```python\n",
    "import numpy as np\n",
    "\n",
    "x = np.array([1.54, 4.56, 5.07, 5.51, 6.20, 6.93, 7.50, 7.83, 9.49, 9.71])\n",
    "y = np.array([46.59, 98.05, 99.90, 94.24, 119.57, 119.48, 140.81, 133.13, 169.88, 163.17])\n",
    "```\n",
    "\n",
    "Partindo de um modelo inicial onde A = 11 e B = 13.\n",
    "\n",
    "Quais dos seguintes pares de coeficientes angulares e lineares apresentam Erro Quadrático Médio menor que o do modelo inicial?"
   ]
  },
  {
   "cell_type": "code",
   "execution_count": 18,
   "metadata": {},
   "outputs": [
    {
     "name": "stdout",
     "output_type": "stream",
     "text": [
      "Erro inicial: 1312.08136\n",
      "784.0905799999998\n",
      "594.6787400000004\n",
      "6876.17704\n",
      "184.21848000000028\n",
      "4143.50786\n",
      "6359.067279999999\n",
      "79.23153999999992\n",
      "4966.97834\n",
      "1268.4274399999995\n",
      "2794.6440799999996\n"
     ]
    }
   ],
   "source": [
    "x = np.array([1.54, 4.56, 5.07, 5.51, 6.20, 6.93, 7.50, 7.83, 9.49, 9.71])\n",
    "y = np.array([46.59, 98.05, 99.90, 94.24, 119.57, 119.48, 140.81, 133.13, 169.88, 163.17])\n",
    "\n",
    "inicio = np.array([11, 13])\n",
    "print(f\"Erro inicial: {erro(inicio)}\")\n",
    "\n",
    "print(erro([10, 29])) # menor\n",
    "print(erro([18, 25])) # menor\n",
    "print(erro([3, 21])) \n",
    "print(erro([17, 20])) # menor\n",
    "print(erro([6, 19]))\n",
    "print(erro([5, 10]))\n",
    "print(erro([14, 22])) # menor\n",
    "print(erro([4, 27]))\n",
    "print(erro([9, 28]))  # menor\n",
    "print(erro([7, 24]))\n",
    "\n",
    "\n",
    "\n"
   ]
  },
  {
   "attachments": {},
   "cell_type": "markdown",
   "metadata": {},
   "source": [
    "### Questão 3"
   ]
  },
  {
   "attachments": {},
   "cell_type": "markdown",
   "metadata": {},
   "source": [
    "Considerando um modelo Ax + B e as medidas xi, yi apresentadas abaixo:\n",
    "\n",
    "```python\n",
    "import numpy as np\n",
    "\n",
    "A = 6.00\n",
    "B = 10.00\n",
    "x = np.array([2.23, 3.13, 4.13, 4.34, 4.69, 7.40, 7.89, 8.37, 8.54, 9.73])\n",
    "y = np.array([26.65, 31.05, 47.79, 44.13, 24.23, 58.91, 48.49, 65.33, 50.25, 86.73])\n",
    "```\n",
    "\n",
    "Qual o valor do Erro Quadrático Médio?\n"
   ]
  },
  {
   "cell_type": "code",
   "execution_count": 20,
   "metadata": {},
   "outputs": [
    {
     "name": "stdout",
     "output_type": "stream",
     "text": [
      "Erro inicial: 102.63194000000001\n"
     ]
    }
   ],
   "source": [
    "x = np.array([2.23, 3.13, 4.13, 4.34, 4.69, 7.40, 7.89, 8.37, 8.54, 9.73])\n",
    "y = np.array([26.65, 31.05, 47.79, 44.13, 24.23, 58.91, 48.49, 65.33, 50.25, 86.73])\n",
    "\n",
    "inicio = np.array([6, 10])\n",
    "print(f\"Erro inicial: {erro(inicio)}\")"
   ]
  },
  {
   "cell_type": "code",
   "execution_count": null,
   "metadata": {},
   "outputs": [],
   "source": []
  }
 ],
 "metadata": {
  "kernelspec": {
   "display_name": "Python 3",
   "language": "python",
   "name": "python3"
  },
  "language_info": {
   "codemirror_mode": {
    "name": "ipython",
    "version": 3
   },
   "file_extension": ".py",
   "mimetype": "text/x-python",
   "name": "python",
   "nbconvert_exporter": "python",
   "pygments_lexer": "ipython3",
   "version": "3.11.1"
  },
  "orig_nbformat": 4
 },
 "nbformat": 4,
 "nbformat_minor": 2
}
