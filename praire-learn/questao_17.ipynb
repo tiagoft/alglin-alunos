{
 "cells": [
  {
   "attachments": {},
   "cell_type": "markdown",
   "metadata": {},
   "source": [
    "# Praire Learn 17"
   ]
  },
  {
   "attachments": {},
   "cell_type": "markdown",
   "metadata": {},
   "source": [
    "### Questão 1"
   ]
  },
  {
   "attachments": {},
   "cell_type": "markdown",
   "metadata": {},
   "source": [
    "Qual a entropia em base 2 relacionada a rolar um dado de 19 lados e obter como resultado a face 2?"
   ]
  },
  {
   "cell_type": "code",
   "execution_count": 2,
   "metadata": {},
   "outputs": [
    {
     "name": "stdout",
     "output_type": "stream",
     "text": [
      "Entropia:  0.29747224891928953\n"
     ]
    }
   ],
   "source": [
    "import numpy as np\n",
    "import scipy.stats as stats\n",
    "\n",
    "# Qual a entropia em base 2 relacionada a rolar um dado de 19 lados e obter como resultado a face 2?\n",
    "\n",
    "# Dado de 19 lados\n",
    "n = 19\n",
    "\n",
    "# Probabilidade de obter a face 2\n",
    "p = 1/n\n",
    "\n",
    "# Entropia\n",
    "H = stats.entropy([p, 1-p], base=2)\n",
    "\n",
    "print('Entropia: ', H)\n"
   ]
  },
  {
   "attachments": {},
   "cell_type": "markdown",
   "metadata": {},
   "source": [
    "### Questão 2"
   ]
  },
  {
   "attachments": {},
   "cell_type": "markdown",
   "metadata": {},
   "source": [
    "Uma determinada variável aleatória discreta é modelada por uma distribuição Binomial cuja probabilidade é 0.809 e o valor de N é 20.\n",
    "\n",
    "Qual a entropia em base 2 desta variável?"
   ]
  },
  {
   "cell_type": "code",
   "execution_count": 4,
   "metadata": {},
   "outputs": [
    {
     "name": "stdout",
     "output_type": "stream",
     "text": [
      "A entropia em base 2 da distribuição é: 2.8414 bits\n"
     ]
    }
   ],
   "source": [
    "# Uma determinada variável aleatória discreta é modelada por uma distribuição Binomial cuja probabilidade é 0.809 e o valor de N é 20.\n",
    "\n",
    "# Qual a entropia em base 2 desta variável?\n",
    "\n",
    "import numpy as np\n",
    "from scipy.special import comb\n",
    "\n",
    "# Definindo os parâmetros da distribuição binomial\n",
    "p = 0.809\n",
    "N = 20\n",
    "\n",
    "# Criando um vetor com os valores possíveis da variável aleatória\n",
    "x = np.arange(0, N+1)\n",
    "\n",
    "# Calculando as probabilidades de cada valor da variável aleatória\n",
    "px = comb(N, x) * p**x * (1-p)**(N-x)\n",
    "\n",
    "# Calculando a entropia em base 2 da distribuição\n",
    "H = -np.sum(px * np.log2(px))\n",
    "\n",
    "print(f\"A entropia em base 2 da distribuição é: {H:.4f} bits\")\n"
   ]
  },
  {
   "attachments": {},
   "cell_type": "markdown",
   "metadata": {},
   "source": [
    "### Questão 3"
   ]
  },
  {
   "attachments": {},
   "cell_type": "markdown",
   "metadata": {},
   "source": [
    "Uma determinada variável aleatória discreta apresenta a seguinte distribuição de probabilidades:\n",
    "\n"
   ]
  },
  {
   "cell_type": "code",
   "execution_count": 5,
   "metadata": {},
   "outputs": [
    {
     "name": "stdout",
     "output_type": "stream",
     "text": [
      "A entropia em base 2 da distribuição é: 2.7926 bits\n"
     ]
    }
   ],
   "source": [
    "import numpy as np\n",
    "\n",
    "X = np.array([0.03, 0.07, 0.07, 0.17, 0.08, 0.03, 0.04, 0.14, 0.02, 0.35])\n",
    "\n",
    "# Qual a entropia em base 2 da variável aleatória X?\n",
    "\n",
    "# Calculando a entropia em base 2 da distribuição\n",
    "H = -np.sum(X * np.log2(X))\n",
    "\n",
    "print(f\"A entropia em base 2 da distribuição é: {H:.4f} bits\")"
   ]
  },
  {
   "cell_type": "markdown",
   "metadata": {},
   "source": []
  },
  {
   "cell_type": "code",
   "execution_count": null,
   "metadata": {},
   "outputs": [],
   "source": []
  }
 ],
 "metadata": {
  "kernelspec": {
   "display_name": "Python 3",
   "language": "python",
   "name": "python3"
  },
  "language_info": {
   "codemirror_mode": {
    "name": "ipython",
    "version": 3
   },
   "file_extension": ".py",
   "mimetype": "text/x-python",
   "name": "python",
   "nbconvert_exporter": "python",
   "pygments_lexer": "ipython3",
   "version": "3.11.1"
  },
  "orig_nbformat": 4
 },
 "nbformat": 4,
 "nbformat_minor": 2
}
