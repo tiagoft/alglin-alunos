{
 "cells": [
  {
   "cell_type": "code",
   "execution_count": 1,
   "metadata": {},
   "outputs": [],
   "source": [
    "import numpy as np\n",
    "import matplotlib.pyplot as plt"
   ]
  },
  {
   "cell_type": "markdown",
   "metadata": {},
   "source": [
    "# Etapa 1"
   ]
  },
  {
   "cell_type": "markdown",
   "metadata": {},
   "source": [
    "# Exercício 1\n",
    "**Objetivo: Entender o problema de estimar custos de produção**\n",
    "\n",
    "Uma doceria faz brigadeiros. Para fazer uma fornada com 20 brigadeiros, é preciso usar 40g de manteiga, uma lata (400g) de leite condensado e 20g de chocolate em pó.\n",
    "\n",
    "O custo de cada ingrediente está na tabela:\n",
    "\n",
    "Ingrediente | Custo por embalagem \n",
    "--- | ---\n",
    "Leite condensado | R\\$10,00 (lata de 400g) \n",
    "Manteiga | R\\$15,00 (pote com 200g)\n",
    "Chocolate em pó |R\\$18,00 (caixa com 200g)\n",
    "\n",
    "Para calcular o custo de uma fornada de brigadeiros, precisamos multiplicar o custo de cada embalagem pela quantidade dele que foi utilizada, e então somar os resultados.\n",
    "\n",
    "Complete o código abaixo para estimar quanto custa fazer uma fornada de 20 brigadeiros."
   ]
  },
  {
   "cell_type": "code",
   "execution_count": 2,
   "metadata": {},
   "outputs": [
    {
     "name": "stdout",
     "output_type": "stream",
     "text": [
      "14.8\n"
     ]
    }
   ],
   "source": [
    "# Resolva o exercício aqui\n",
    "custo_por_ingrediente = [10, 15, 18] # O que esses números representam?\n",
    "quantidades = [1, 0.2, 0.1]\n",
    "custo_total = 0\n",
    "for n in range(len(custo_por_ingrediente)): # O que precisa ser feito para cada ingrediente?\n",
    "    custo_total+=custo_por_ingrediente[n]*quantidades[n]\n",
    "print(custo_total)"
   ]
  },
  {
   "cell_type": "markdown",
   "metadata": {},
   "source": [
    "# Exercício 2\n",
    "**Objetivo: Usar soma e multiplicação ponto a ponto de vetores**\n",
    "\n",
    "No primeiro exercício, fizemos um laço explícito para multiplicar duas listas e somar os resultados ponto a ponto. A equação que implementamos foi:\n",
    "\n",
    "$$\n",
    "C = \\sum_{n=0}^{N-1} I[n] Q[n],\n",
    "$$\n",
    "\n",
    "onde $\\boldsymbol{I}$ guarda os ingredientes e $\\boldsymbol{Q}$ guarda as quantidades utilizadas.\n",
    "\n",
    "Se usarmos vetores ao invés de listas, podemos usar a seguinte operação:\n",
    "$$\n",
    "C =  \\sum_{n=0}^{N-1} I \\odot Q.\n",
    "$$\n",
    "\n",
    "O operador $\\odot$ significa \"produto ponto-a-ponto\" (*pointwise multiplication*), e é definido como:\n",
    "$$\n",
    "(I \\odot Q)[n] = I[n] Q[n]\n",
    "$$\n",
    "\n",
    "Quando multiplicamos dois vetores de numpy, realizamos a operação $\\odot$ entre eles. Veja, por exemplo:"
   ]
  },
  {
   "cell_type": "code",
   "execution_count": 4,
   "metadata": {},
   "outputs": [
    {
     "name": "stdout",
     "output_type": "stream",
     "text": [
      "[3 4 7]\n"
     ]
    }
   ],
   "source": [
    "a = np.array([1, 2, 7])\n",
    "b = np.array([3, 2, 1])\n",
    "c = a * b\n",
    "print(c)"
   ]
  },
  {
   "cell_type": "code",
   "execution_count": 2,
   "metadata": {},
   "outputs": [
    {
     "name": "stdout",
     "output_type": "stream",
     "text": [
      "[0.5355 1.2628 0.1808 0.3724 0.3948 0.0752 0.9555 0.8175 0.4704]\n"
     ]
    }
   ],
   "source": [
    "import numpy as np\n",
    "\n",
    "A = np.array([0.71, 0.76, 0.14, 0.46, 0.14, 0.86, 0.75, 0.31, 0.61])\n",
    "B = np.array([0.34, 0.78, 0.99, 0.30, 0.28, 0.08, 0.30, 0.78, 0.51])\n",
    "C = np.array([0.51, 0.82, 0.16, 0.49, 0.94, 0.08, 0.91, 0.75, 0.42])\n",
    "\n",
    "print( (A + B) * C)"
   ]
  },
  {
   "cell_type": "markdown",
   "metadata": {},
   "source": [
    "Também, podemos usar a operação `np.sum(x)` para encontrar a soma de todos os elementos do array `x`.\n",
    "\n",
    "Com base nisso, re-escreva abaixo o código do exercício 1 usando os operadores de multiplicação ponto-a-ponto e a função `np.sum()`, de forma que não seja necessário usar laços em seu código."
   ]
  },
  {
   "cell_type": "code",
   "execution_count": 4,
   "metadata": {},
   "outputs": [
    {
     "name": "stdout",
     "output_type": "stream",
     "text": [
      "14.8\n"
     ]
    }
   ],
   "source": [
    "custo_por_ingrediente = np.array([10, 15, 18]) # O que esses números representam?\n",
    "quantidades = np.array([1, 0.2, 0.1])\n",
    "z = custo_por_ingrediente*quantidades\n",
    "custo_total = np.sum(z)\n",
    "print(custo_total)\n"
   ]
  },
  {
   "cell_type": "markdown",
   "metadata": {},
   "source": [
    "# Exercício 3\n",
    "**Objetivo: modelar a soma de produtos como um produto interno**\n",
    "\n",
    "A operação $\\sum_n x[n]y[n]$, que fizemos nos exercícios 1 e 2, pode ser interpretada como uma soma dos elementos de $\\boldsymbol{x}$ ponderada pelos elementos correspondentes em $\\boldsymbol{y}$. Essa operação é muito comum, e é chamada de \"produto interno\" (*inner product*). O produto interno é definido como:\n",
    "\n",
    "$$\n",
    "<x, y> = \\sum_n x[n]y[n] = \\sum_n x \\odot y\n",
    "$$\n",
    "\n",
    "Em Numpy, a função que calcula o produto interno de dois vetores é `np.inner(x, y)`, então poderíamos resolver os exercícios 1 e 2 usando:"
   ]
  },
  {
   "cell_type": "code",
   "execution_count": 5,
   "metadata": {},
   "outputs": [
    {
     "name": "stdout",
     "output_type": "stream",
     "text": [
      "14.8\n"
     ]
    }
   ],
   "source": [
    "custo_total = np.inner(custo_por_ingrediente, quantidades)\n",
    "print(custo_total)"
   ]
  },
  {
   "cell_type": "code",
   "execution_count": 1,
   "metadata": {},
   "outputs": [
    {
     "name": "stdout",
     "output_type": "stream",
     "text": [
      "[[1.3281]]\n"
     ]
    }
   ],
   "source": [
    "import numpy as np\n",
    "\n",
    "A = np.array([[0.66, 0.79, 0.66, 0.17, 0.35, 0.36, 0.10, 0.92, 0.10]])\n",
    "B = np.array([[0.41, 0.06, 0.17, 0.48, 0.49, 0.42, 0.44, 0.48, 0.08]])\n",
    "\n",
    "print(np.inner(A,B))"
   ]
  },
  {
   "cell_type": "markdown",
   "metadata": {},
   "source": [
    "Vamos agora expandir nossa doceria. Além de brigadeiros, vamos adicionar *ganache* no cardápio.\n",
    "\n",
    "Para fazer um pote de ganache, é preciso usar 40g de manteiga, 40g de chocolate e 200mL de creme de leite. Uma caixinha de 200mL de creme de leite custa R\\$2,80. Nossa tabela de ingredientes então fica:\n",
    "\n",
    "Ingrediente | Custo por embalagem \n",
    "--- | ---\n",
    "Leite condensado | R\\$10,00 (lata de 400g) \n",
    "Manteiga | R\\$15,00 (pote com 200g)\n",
    "Chocolate em pó |R\\$18,00 (caixa com 200g)\n",
    "Creme de leite | R\\$2,80 (caixa com 200mL)\n",
    "\n",
    "Em nosso modelo, gostaríamos de usar um único vetor `custo_por_ingrediente` tanto para o brigadeiro quanto para o ganache, e passamos a ter um vetor `quantidades_brigadeiro` para o brigadeiro e um vetor `quantidades_ganache` para o ganache.\n",
    "\n",
    "Complete a solução abaixo para calcular o custo de cada uma das fornadas de doce.\n",
    "\n",
    "1. Complete a definição dos vetores `quantidades_brigadeiro` e `quantidades_ganache`. Como podemos fazer para representar o fato de que um brigadeiro não usa creme de leite e que um ganache não usa manteiga?\n",
    "2. Como a lista de vetores `custos_totais` é calculada? Qual é o conteúdo dela?\n",
    "3. Adicione o \"doce de leite\" ao cardápio. A receita dele é muito simples: deixamos uma lata de leite condensado ferver na panela de pressão por 40 minutos. Lembre-se de fazer essa adição sem alterar o código abaixo da linha marcada.\n",
    "4. Adicione o \"doce de coco\" ao cardápio. Uma fornada de 20 doces usa 200g de leite condensado e 250g de coco ralado. O pacote de 1kg de coco ralado custa R$35,00.  Lembre-se de fazer essa adição sem alterar o código abaixo da linha marcada."
   ]
  },
  {
   "cell_type": "code",
   "execution_count": 7,
   "metadata": {},
   "outputs": [
    {
     "name": "stdout",
     "output_type": "stream",
     "text": [
      "[14.8, 9.4, 10.0, 13.75]\n"
     ]
    }
   ],
   "source": [
    "custo_por_ingrediente = np.array([10, 15, 18, 2.8, 35])\n",
    "\n",
    "quantidades_brigadeiro = np.array([1, 0.2, 0.1, 0, 0]) # Complete esse\n",
    "quantidades_ganache = np.array([0, 0.2, 0.2, 1, 0]) # Complete esse\n",
    "quantidades_doce_leite = np.array([1, 0, 0, 0, 0])\n",
    "quantidades_doce_coco = np.array([1, 0, 0, 0, 0])\n",
    "\n",
    "quantidades = [quantidades_brigadeiro, quantidades_ganache, quantidades_doce_leite, quantidades_doce_coco]\n",
    "\n",
    "# Não modifique nada abaixo desta linha\n",
    "custos_totais = []\n",
    "for idx, q in enumerate(quantidades):\n",
    "    custos_totais.append (np.inner(custo_por_ingrediente, q))\n",
    "print(custos_totais)"
   ]
  },
  {
   "cell_type": "markdown",
   "metadata": {},
   "source": [
    "# Exercício 4\n",
    "**Objetivo: Usar matrizes ao invés de listas de vetores**\n",
    "\n",
    "No exercício 3, usamos um vetor para representar cada uma das quantidades de ingredientes. Ao invés de fazer isso, podemos usar matrizes, que são essencialmente \"vetores de vetores\".\n",
    "\n",
    "Assim como tínhamos usado uma lista para inicializar os elementos de um vetor, vamos usar listas de listas para inicializar os elementos de uma matriz:"
   ]
  },
  {
   "cell_type": "code",
   "execution_count": 20,
   "metadata": {},
   "outputs": [
    {
     "name": "stdout",
     "output_type": "stream",
     "text": [
      "[[1 2 3]\n",
      " [4 5 6]]\n",
      "2\n",
      "(2, 3)\n"
     ]
    }
   ],
   "source": [
    "a = np.array([ [1, 2, 3], [4, 5, 6] ])\n",
    "print(a)\n",
    "print(a[0,1])\n",
    "print(a.shape)"
   ]
  },
  {
   "cell_type": "markdown",
   "metadata": {},
   "source": [
    "Veja que todas as listas passadas têm que ter o mesmo tamanho, o que permite gerar essa estrutura retangular com linhas e colunas.\n",
    "\n",
    "Vamos praticar o uso de matrizes.\n",
    "\n",
    "Crie duas matrizes:\n",
    "1. A matriz de receitas $\\boldsymbol{X}$, que tem um linha para cada receita da doceria e uma coluna para cada ingrediente usado, isto é, $x[i,j]$ representa a quantidade do ingrediente $j$ na receita $i$.\n",
    "2. A matriz de custos $\\boldsymbol{Y}$, que tem apenas uma coluna e cada linha representa o custo de cada ingrediente, na mesma ordem usada na matriz $\\boldsymbol{X}$.\n",
    "3. Veja que $\\boldsymbol{X}$ deveria ser uma matriz com 4x5 (isto é, 4 linhas e 5 colunas), e $\\boldsymbol{Y}$ deveria ser uma matriz 5x1, isto é, com 5 linhas e 1 coluna. Use o método `shape` para confirmar as dimensões das matrizes."
   ]
  },
  {
   "cell_type": "code",
   "execution_count": 21,
   "metadata": {},
   "outputs": [],
   "source": [
    "#4 receitas e 5 ingrediente\n",
    "\n",
    "X = np.array( [ [1, 0.2, 0.1, 0, 0], [0, 0.2, 0.2, 1, 0], [1, 0, 0, 0, 0], [1, 0, 0, 0, 0]])\n",
    "Y = np.array( [ [10], [15], [18], [2.8], [35] ])\n",
    "\n",
    "#se quiser add outro mercado:\n",
    "#Y = np.array( [ [18, 48], [15,4] ])\n"
   ]
  },
  {
   "cell_type": "markdown",
   "metadata": {},
   "source": [
    "# Exercício 5\n",
    "**Objetivo: Usar multiplicação matricial para o modelo mais compacto**\n",
    "\n",
    "Uma operação importante que vamos usar hoje é a *multiplicação matricial* (*dot product*). A notação matemática para esta operação é:\n",
    "$$\n",
    "\\boldsymbol{Z} = \\boldsymbol{X} \\boldsymbol{Y}\n",
    "$$\n",
    "\n",
    "Essa operação cria uma matriz $\\boldsymbol{Z}$ tal que o elemento $z[i,j]$ é o produto interno entre a i-ésima linha de $\\boldsymbol{X}$ e a j-ésima coluna de $\\boldsymbol{Y}$, isto é:\n",
    "\n",
    "$$\n",
    "z[i,j] = <\\boldsymbol{X[i,:]}, \\boldsymbol{Y[:,j]}> = \\sum_{n=0}^{N-1} x[i,n] y[n,i]\n",
    "$$\n",
    "\n",
    "Veja por exemplo:\n",
    "$$ \\boldsymbol{x} = \n",
    "\\begin{bmatrix}\n",
    "    1 & 2\\\\\n",
    "    3 & 4\n",
    "\\end{bmatrix}\n",
    "$$\n",
    "\n",
    "$$ \\boldsymbol{y} = \n",
    "\\begin{bmatrix}\n",
    "    -1 \\\\\n",
    "    -2 \n",
    "\\end{bmatrix}\n",
    "$$\n",
    "\n",
    "$$ \\boldsymbol{z} = \n",
    "\\begin{bmatrix}\n",
    "    -1 \\times 1 + -2 \\times 2 \\\\\n",
    "    -1 \\times 3 + -2 \\times 4\n",
    "\\end{bmatrix}\n",
    "= \n",
    "\\begin{bmatrix}\n",
    "    -1 -4 \\\\\n",
    "    -3 -8\n",
    "\\end{bmatrix}\n",
    "= \n",
    "\\begin{bmatrix}\n",
    "    -5 \\\\\n",
    "    -11\n",
    "\\end{bmatrix}\n",
    "$$\n",
    "\n",
    "\n",
    "A multiplicação matricial pode ser representada em Python usando o operador `@` ou então a função `np.dot()`:"
   ]
  },
  {
   "cell_type": "code",
   "execution_count": 29,
   "metadata": {},
   "outputs": [
    {
     "name": "stdout",
     "output_type": "stream",
     "text": [
      "[[ -5]\n",
      " [-11]]\n",
      "[[ -5]\n",
      " [-11]]\n"
     ]
    }
   ],
   "source": [
    "x_ = np.array([ [1, 2], [3, 4] ])\n",
    "y_ = np.array([ [-1], [-2]])\n",
    "z_ = x_ @ y_\n",
    "print(z_)\n",
    "z_ = np.dot(x_, y_)\n",
    "print(z_)"
   ]
  },
  {
   "cell_type": "markdown",
   "metadata": {},
   "source": [
    "Para que a operação de multiplicação matricial seja possível, é preciso que haja tantas colunas em $X$ quanto linhas em $Y$, mas o número de linhas de $X$ e o de colunas em $Y$ é livre. Em outras palavras:\n",
    "\n",
    "* $X \\in \\mathbb{R}^{i \\times N}$\n",
    "* $Y \\in \\mathbb{R}^{N \\times j}$\n",
    "* $Z \\in \\mathbb{R}^{i \\times j}$\n",
    "\n",
    "Usamos uma notação $M \\in \\mathbb{R}^{A \\times B}$ (geralmente isso é lido como \"M pertence a R-A por B\") para significar que a matriz $M$ tem $A$ linhas e $B$ colunas. Essa notação vem da ideia do conjunto dos números reais ($\\mathbb{R}$) - lembre-se que, quando $x$ é um número real qualquer, dizemos que \"x pertence aos números reais, ou $x \\in \\mathbb{R}$. Da mesma forma, quando um vetor $v$ tem $N$ elementos, dizemos que ele pertence a \"R-N$, ou, $v \\in \\mathbb{R}^N$.\n",
    "\n",
    "1. Calcule (manualmente, no papel) o valor da matriz $z$ abaixo, e, após, confirme seu resultado usando Python. \n",
    "$$\n",
    "z = x y\\\\\n",
    "\n",
    "x =\n",
    "\\begin{bmatrix}\n",
    "    0 & 1\\\\\n",
    "    2 & 3\n",
    "\\end{bmatrix}\\\\ \n",
    "\n",
    "y =\n",
    "\\begin{bmatrix}\n",
    "    2 \\\\\n",
    "    1\n",
    "\\end{bmatrix}\n",
    "$$\n",
    "\n",
    "2. Se temos as matrizes $X$, com uma linha por receita e uma coluna por ingrediente, e $A$, com uma linha por ingrediente e apenas uma coluna, (a) qual deve ser a dimensão da matriz $Y=XA$? (b) O que cada elemento de $Y$ representa?\n",
    "\n",
    "3. Vamos supor que temos uma outra opção de mercado, com outros custos para os ingredientes. O que aconteceria com a interpretação dos elementos da matriz $Y$ do ítem acima se os preços do novo mercado fossem representados como uma nova coluna na matriz $A$?\n"
   ]
  },
  {
   "cell_type": "code",
   "execution_count": 7,
   "metadata": {},
   "outputs": [
    {
     "name": "stdout",
     "output_type": "stream",
     "text": [
      "[[1]\n",
      " [7]]\n"
     ]
    }
   ],
   "source": [
    "#0*2 + 1*1 = 1\n",
    "#2*3 + 2*1 = 7\n",
    "\n",
    "x = np.array([[0, 1],[2, 3]])\n",
    "y = np.array([[2], [1]])\n",
    "\n",
    "print(np.dot(x, y))"
   ]
  },
  {
   "cell_type": "markdown",
   "metadata": {},
   "source": [
    "# Exercício 6\n",
    "**Objetivo: Interpretar a multiplicação matricial como um sistema com entradas e saídas**\n",
    "\n",
    "Nos exercícios acima, fizemos uma mutiplicação matricial. Partimos da matriz $X$, (receitas por ingrediente), e multiplicamos pela matriz $A$ (ingrediente por custo), gerando a matriz $Y$ (receitas por custo), ou: $Y = XA$.\n",
    "\n",
    "A multiplicação matricial poderia ser interpretada como uma função escrita em Python parecida com:\n",
    "\n",
    "    def calcular_custos(receitas):\n",
    "        # Executa multiplicacao matricial\n",
    "        custos = receitas @ A\n",
    "        return custos\n",
    "\n",
    "Uma outra maneira de representar a mesma operação é usando um diagrama de blocos, como em:\n",
    "\n",
    "![Y = X*A](fig/um_sistema.png \"A multiplicação matricial pode ser interpretada como aplicar uma função ou um sistema\")\n",
    "\n",
    "Esse tipo de diagrama de blocos é parecido com aqueles usados em matemática para representar que [funções são mapeamentos de elementos entre um domínio e um contra-domínio](https://en.wikipedia.org/wiki/Map_(mathematics)). No nosso caso, estamos deixando explícito que estamos mapeando vetores que representam ingredientes para vetores que representam seus custos correspondentes:\n",
    "\n",
    "![Y = X*A](fig/um_sistema_receitas_custos.png \"A multiplicação matricial pode ser interpretada como aplicar uma função ou um sistema\")\n",
    "\n",
    "---\n",
    "\n",
    "1. Desenhe o diagrama de blocos para nosso sistema, deixando explícitas as dimensões das matrizes em cada região e o que elas significam.\n",
    "2. A doceria gostaria de que seu preço de venda fosse sempre 10% superior ao custo com ingredientes. (a) Represente a conversão entre o custo e o preço de venda por receita usando o diagrama de blocos, explicitando as dimensões das matrizes usadas e o que elas significam. (b) Faça um programa que calcula o preço de venda de cada receita usando multiplicações matriciais. Qual é o preço de venda de cada receita?\n",
    "3. A doceria decidiu fazer dois kits para vender: o kit A, que tem 100 brigadeiros e 1 pote de ganache, e o kit B, que tem 10 brigadeiros, 10 doces de côco e 2 potes de ganache. (a) Represente a conversão entre kits e receitas usando o diagrama de blocos, explicitando as dimensões das matrizes usadas e o que elas significam. (b) Faça um programa que calcula o preço de venda de cada kit usando multiplicações matriciais. Qual é o preço de venda de cada kit?\n",
    "4. Um cliente fez um pedido de dois kits A e três kits B. Usando apenas multiplicações matriciais (e o mesmo processo que fizemos ao longo deste exercício) qual é o preço total deste pedido?\n"
   ]
  },
  {
   "attachments": {},
   "cell_type": "markdown",
   "metadata": {},
   "source": [
    "1. receitas (matriz 4x1) -> multiplicação matricial (receitas @ custos) ->  custos\n",
    "2. a) custos -> 0.1 * custos + custos -> novo valor  b)\n",
    "3. a) receitas -> agrupamento -> kits    b) kits -> itens* custos* 0.1 -> preço de venda\n"
   ]
  },
  {
   "cell_type": "code",
   "execution_count": 9,
   "metadata": {},
   "outputs": [
    {
     "name": "stdout",
     "output_type": "stream",
     "text": [
      "[[14.8]\n",
      " [ 9.4]\n",
      " [10. ]\n",
      " [10. ]]\n",
      "[[16.28]\n",
      " [10.34]\n",
      " [11.  ]\n",
      " [11.  ]]\n",
      "[[91.74]\n",
      " [34.32]]\n",
      "[[286.44]]\n"
     ]
    }
   ],
   "source": [
    "X = np.array( [ [1, 0.2, 0.1, 0, 0], [0, 0.2, 0.2, 1, 0], [1, 0, 0, 0, 0], [1, 0, 0, 0, 0]])\n",
    "Y = np.array( [ [10], [15], [18], [2.8], [35] ])\n",
    "\n",
    "custos = X@Y\n",
    "print(custos)\n",
    "preco_venda = custos*1.1\n",
    "print(preco_venda)\n",
    "kits = np.array([[5,1,0,0], [0.5,2,0,0.5]])\n",
    "print(kits@preco_venda)\n",
    "pedido = np.array([[2,3]])\n",
    "print(pedido@kits@preco_venda)"
   ]
  },
  {
   "cell_type": "markdown",
   "metadata": {},
   "source": [
    "\n",
    "# Etapa 2\n"
   ]
  },
  {
   "cell_type": "markdown",
   "metadata": {},
   "source": [
    "# Exercício 7\n",
    "**Objetivo: entender o sistema presa-predador linear**\n",
    "\n",
    "Uma situação que acontece na natureza é que alguns seres vivos são predadores de outros. Por exemplo: o [carcará](https://pt.wikipedia.org/wiki/Carcar%C3%A1), uma ave de rapina sul-americana parecida com um falcão, se alimenta de sapos, e, por isso, dizemos que o carcará é um *predador* do sapo. Nessa relação, o carcará é o *predador* e o sapo é a *presa*. Nosso objetivo, neste exercício, é encontrar como a quantidade de carcarás e de sapos varia com o tempo.\n",
    "\n",
    "Na nossa simulação, o tempo é medido em meses (veja que $t$ será sempre um número inteiro!). Vamos usar a variável $c$ para representar o número de carcarás na população, e $s$ para representar o número de sapos. Então, $c_t$ é o número de carcarás no tempo $t$, e $s_t$ é o número de sapos no tempo $t$. Como cada carcará come muitos sapos, vamos convencionar que $c$ está em unidades e $s$ está em milhares.\n",
    "\n",
    "Vamos assumir alguns comportamentos \n",
    "\n",
    "* A população de carcarás naturalmente cai em 20% a cada mês\n",
    "* Para cada cinco mil sapos existentes naquele mês, um novo carcará nasce\n",
    "* A população de sapos naturalmente sobe em 10% porque eles se reproduzem\n",
    "* A cada mês, cada carcará consegue comer 100 sapos\n",
    "\n",
    "Isso significa que podemos escrever equações para calcular o número de carcarás e de sapos a cada mês, tomando por base a quantidade deles no mês anterior:\n",
    "\n",
    "$$ \n",
    "\\begin{cases}\n",
    "    \\begin{aligned}\n",
    "    c_t & = 0.8 c_{t-1} + 0.2 s_{t-1} \\\\\n",
    "    s_t & = - 0.1 c_{t-1} + 1.1 s_{t-1} \\\\\n",
    "    \\end{aligned}\n",
    "\\end{cases}\n",
    "$$\n",
    "\n",
    "1. Complete a função abaixo para simular a mudança populacional a cada mês por um período de 10 anos\n",
    "2. Simule a mudança populacional para as as condições iniciais: $(c_0=10, s_0=100)$, $(c_0=6, s_0=5)$, $(c_0=10.3, s_0=10.3)$, $(c_0=10, s_0=10)$. O que acontece em cada um desses casos?\n",
    "3. O que acontece com as populações se os gaviões começarem a comer mais e mais?\n",
    "4. O que acontece com as populações se os sapos passarem a se reproduzir menos?"
   ]
  },
  {
   "cell_type": "code",
   "execution_count": 10,
   "metadata": {},
   "outputs": [
    {
     "name": "stdout",
     "output_type": "stream",
     "text": [
      "(10.0, 10.0)\n"
     ]
    }
   ],
   "source": [
    "def executar_modelo(c, s):\n",
    "    c_antigo = c\n",
    "    s_antigo = s\n",
    "    for _ in range (120):\n",
    "        c_novo = 0.8*c_antigo + 0.2*s_antigo\n",
    "        s_novo = -0.1*c_antigo + 1.1*s_antigo\n",
    "        c_antigo = c_novo \n",
    "        s_antigo = s_novo\n",
    "\n",
    "    return c_novo, s_novo\n",
    "\n",
    "print(executar_modelo(10, 10))"
   ]
  },
  {
   "cell_type": "code",
   "execution_count": 11,
   "metadata": {},
   "outputs": [
    {
     "data": {
      "text/plain": [
       "(189.99941873571902, 189.99970936786062)"
      ]
     },
     "execution_count": 11,
     "metadata": {},
     "output_type": "execute_result"
    }
   ],
   "source": [
    "c=10\n",
    "s = 100\n",
    "executar_modelo(c, s)"
   ]
  },
  {
   "cell_type": "code",
   "execution_count": 12,
   "metadata": {},
   "outputs": [
    {
     "data": {
      "text/plain": [
       "(4.000006458492093, 4.000003229246076)"
      ]
     },
     "execution_count": 12,
     "metadata": {},
     "output_type": "execute_result"
    }
   ],
   "source": [
    "c = 6\n",
    "s = 5\n",
    "executar_modelo(c, s)"
   ]
  },
  {
   "cell_type": "code",
   "execution_count": 15,
   "metadata": {},
   "outputs": [
    {
     "data": {
      "text/plain": [
       "(10.300000000000209, 10.300000000000214)"
      ]
     },
     "execution_count": 15,
     "metadata": {},
     "output_type": "execute_result"
    }
   ],
   "source": [
    "c = 10.3\n",
    "s = 10.3\n",
    "executar_modelo(c, s)"
   ]
  },
  {
   "cell_type": "code",
   "execution_count": 14,
   "metadata": {},
   "outputs": [
    {
     "data": {
      "text/plain": [
       "(10.0, 10.0)"
      ]
     },
     "execution_count": 14,
     "metadata": {},
     "output_type": "execute_result"
    }
   ],
   "source": [
    "c = 10\n",
    "s = 10\n",
    "executar_modelo(c, s)"
   ]
  },
  {
   "cell_type": "markdown",
   "metadata": {},
   "source": [
    "# Exercício 8\n",
    "**Objetivo: escrever um sistema dinâmico linear em seu formato matricial**\n",
    "\n",
    "Uma maneira de escrever o sistema de equações que usamos no exercício anterior é usando a forma matricial:\n",
    "\n",
    "$$\n",
    "\\begin{bmatrix}\n",
    "    c_t \\\\\n",
    "    s_t \n",
    "\\end{bmatrix}\n",
    "=\n",
    "\\begin{bmatrix}\n",
    "    0.8 & 0.2\\\\\n",
    "    -0.1 & 1.1\n",
    "\\end{bmatrix} \n",
    "\\begin{bmatrix}\n",
    "    c_{t-1} \\\\\n",
    "    s_{t-1}\n",
    "\\end{bmatrix}\n",
    "$$\n",
    "\n",
    "1. Realize manualmente o cálculo acima e verifique que essa formulação matricial é equivalente ao sistema de equações\n",
    "2. Com essa formulação, o cálculo das populações no mês seguinte passa a ser uma multiplicação matricial. Reformule a função `executar_modelo` para que ela opere diretamente com matrizes e vetores. Teste sua nova função para confirmar que tem os mesmos resultados da versão anterior.\n",
    "\n"
   ]
  },
  {
   "cell_type": "code",
   "execution_count": 17,
   "metadata": {},
   "outputs": [
    {
     "data": {
      "text/plain": [
       "array([[10.],\n",
       "       [10.]])"
      ]
     },
     "execution_count": 17,
     "metadata": {},
     "output_type": "execute_result"
    }
   ],
   "source": [
    "def executar_modelo(c, s):\n",
    "    pop = np.array([[c], [s]])\n",
    "    din = np.array([[0.8, 0.2], [-0.1, 1.1]])\n",
    "    for _ in range (120):\n",
    "        pop = din @ pop \n",
    "        #din @ pop por conta da dimensão da matriz\n",
    "\n",
    "    return pop\n",
    "\n",
    "executar_modelo(10, 10)"
   ]
  },
  {
   "cell_type": "markdown",
   "metadata": {},
   "source": [
    "# Exercício 9\n",
    "**Objetivo: usar a multiplicação matricial para executar várias simulações paralelamente**\n",
    "\n",
    "Uma possível ideia para simular diversas condições iniciais simultaneamente é usar uma matriz de condições iniciais com uma coluna para cada condição inicial, isto é, algo como:\n",
    "$$\n",
    "\\begin{bmatrix}\n",
    "    c^{(1)}_{t} & c^{(2)}_{t} & c^{(3)}_{t} \\\\\n",
    "    s^{(1)}_{t} & s^{(2)}_{t} & s^{(3)}_{t} \n",
    "\\end{bmatrix}=\n",
    "\\begin{bmatrix}\n",
    "    0.8 & 0.2\\\\\n",
    "    -0.1 & 1.1\n",
    "\\end{bmatrix} \n",
    "\\begin{bmatrix}\n",
    "    c^{(1)}_{t-1} & c^{(2)}_{t-1} & c^{(3)}_{t-1} \\\\\n",
    "    s^{(1)}_{t-1} & s^{(2)}_{t-1} & s^{(3)}_{t-1} \n",
    "\\end{bmatrix}\n",
    "$$\n",
    "\n",
    "1. Realize manualmente (no papel) a multiplicação acima. Evidencie como cada coluna da matriz do lado esquerdo da equação depende somente das colunas correspondentes na matriz de entradas no lado direito da equação, isto é, $c^{(2)}$, por exemplo, não influencia $c^{(1)}$.\n",
    "2. Execute todas as simulações de variações do problema que fizemos nos ítens anteriores, mas agora usando a formulação matricial para simularmos todos simultaneamente.\n"
   ]
  },
  {
   "cell_type": "code",
   "execution_count": 18,
   "metadata": {},
   "outputs": [
    {
     "data": {
      "text/plain": [
       "array([[10., 10., 10.],\n",
       "       [10., 10., 10.]])"
      ]
     },
     "execution_count": 18,
     "metadata": {},
     "output_type": "execute_result"
    }
   ],
   "source": [
    "#preciso atualizar\n",
    "\n",
    "\n",
    "def executar_modelo(c, s):\n",
    "    pop = np.array([[c,s]])\n",
    "    din = np.array([[0.8, 0.2], [-0.1, 1.1]])\n",
    "    for _ in range (120):\n",
    "        pop = din @ pop \n",
    "        #din @ pop por conta da dimensão da matriz\n",
    "    return pop\n",
    "\n",
    "executar_modelo(10, 10)"
   ]
  },
  {
   "cell_type": "markdown",
   "metadata": {},
   "source": [
    "# Exercício 10\n",
    "**Objetivo: entender o processo de transposição de matrizes**\n",
    "\n",
    "Você deve ter percebido que na etapa 1 desta aula usamos as linhas de uma matriz para representar cada um dos nossos elementos, ao passo que agora temos colunas representando esses mesmos elementos. Na verdade, podemos optar por qualquer uma das representações, e para isso usamos uma operação chamada \"transposição\". Na transposição, as linhas de uma matriz se tornam colunas e vice-versa, isto é, se uma matriz $X$ tem elementos $x[i,j]$, então a matriz transposta $X^T$ tem elementos $x^T[i,j] = x[j,i]$. Por exemplo:\n",
    "$$\n",
    "X =\n",
    "\\begin{bmatrix}\n",
    "    a & b & c\\\\\n",
    "    d & e & f\n",
    "\\end{bmatrix} \\rightarrow\n",
    "X^T =\n",
    "\\begin{bmatrix}\n",
    "    a & d\\\\\n",
    "    b & e\\\\\n",
    "    c & f\n",
    "\\end{bmatrix}\n",
    "$$\n",
    "\n",
    "É claro que a transposta da transposta de uma matriz é a própria matriz original:\n",
    "$$\n",
    "X^{T^T} = X\n",
    "$$\n",
    "\n",
    "A transposição de matrizes tem uma propriedade muito importante, que é a de possibilitar inverter a ordem das matrizes em uma multiplicação:\n",
    "$$\n",
    "(AB)^T = B^T A^T\n",
    "$$\n",
    "\n",
    "1. Em nossa simulação de carcarás e sapos, utilizamos a forma: $Y=AX$. Identifique as matrizes $Y$, $A$ e $X$.\n",
    "2. Na representação atual, os elementos de $Y$ são suas colunas. Podemos transpor os dois lados da equação e obter: $Y^T = (AX)^T$. Use as propriedades da transposição de matrizes para simplificar essa equação e permitir que $Y^T$ seja encontrado usando somente uma multiplicação matricial.\n",
    "3. Altere sua função `executar_modelo` para que ela passe a operar com a forma transposta de seu problema."
   ]
  },
  {
   "cell_type": "code",
   "execution_count": 22,
   "metadata": {},
   "outputs": [
    {
     "data": {
      "text/plain": [
       "array([[-19.99990312],\n",
       "       [ 39.99990312]])"
      ]
     },
     "execution_count": 22,
     "metadata": {},
     "output_type": "execute_result"
    }
   ],
   "source": [
    "#Y   =  A     X\n",
    "#pop = din @ pop\n",
    "\n",
    "def executar_modelo(c, s):\n",
    "    pop = np.array([[c, s]]).T\n",
    "    din = np.array([[0.8, 0.2], [-0.1, 1.1]]).T\n",
    "    for _ in range (120):\n",
    "        pop = din @ pop \n",
    "        #din @ pop por conta da dimensão da matriz\n",
    "\n",
    "    return pop\n",
    "\n",
    "executar_modelo(10, 10)\n"
   ]
  },
  {
   "cell_type": "markdown",
   "metadata": {},
   "source": [
    "# Exercício 11\n",
    "**Objetivo: refletir sobre as representações em linhas e em colunas**\n",
    "\n",
    "Até o momento, você deve ter verificado que podemos operar com matrizes que representam elementos ao longo de suas linhas ou ao longo de suas colunas. Se tudo correu bem, você provavelmente verificou que as duas representações são estritamente iguais, ao menos no que diz respeito aos números que estão lá representados. Porém, há comunidades que usam a representação \"cada elemento é uma linha\" e outras que usam \"cada elemento é uma coluna\".\n",
    "\n",
    "1. Quando pensamos em uma planilha de notas de alunos, em que cada linha representa um aluno e cada coluna representa uma das avaliações, qual das representações estamos usando?\n",
    "2. Quando pensamos em um sistema de equações, como aquele que escrevemos para o caso dos carcarás e dos sapos, qual das representações estamos usando?\n",
    "3. Existe uma representação que seja, em princípio, \"melhor\" que a outra?\n"
   ]
  },
  {
   "attachments": {},
   "cell_type": "markdown",
   "metadata": {},
   "source": [
    "1. cada elemento é uma coluna\n",
    "2. cada elemento é uma linha\n",
    "3. Não."
   ]
  },
  {
   "cell_type": "markdown",
   "metadata": {},
   "source": [
    "# Etapa 3\n",
    "# Exercício 12\n",
    "**Objetivo: Entender o algoritmo PageRank como navegação aleatória e probabilidade**\n",
    "\n",
    "O buscador Google foi criado com base num algoritmo chamado PageRank. O PageRank tem o objetivo de identificar quais são as páginas web mais relevantes que se relacionam a uma determinada \"query\". A premissa do PageRank é que as páginas que são linkadas por mais páginas são mais relevantes, e que as páginas que recebem links de páginas relevantes também são mais relevantes. Uma maneira de modelar isso é usando a ideia de um \"surfista aleatório\": se uma pessoa clica aleatoriamente em links durante sua navegação na Internet, essa pessoa vai passar, com mais probabilidade, em sites relevantes. Daí, a ideia é que a relevância de uma página seja proporcional à probabilidade do surfista estar nessa página ao longo de sua navegação aleatória.\n",
    "\n",
    "Vamos partir de uma matriz $A$ que representa todas as páginas da web. Como estamos explicando esse conceito, vamos usar primeiro uma \"web fictícia\" com 4 páginas. O elemento $a_{i,j}$ representa a probabilidade de, clicando num link aleatório da página $j$, sair na página $i$. Isso significa que, se $a_{i,j}=0$, então não há link da página $j$ para a página $i$:"
   ]
  },
  {
   "cell_type": "code",
   "execution_count": 99,
   "metadata": {},
   "outputs": [
    {
     "name": "stdout",
     "output_type": "stream",
     "text": [
      "[[0.         0.5        0.         0.        ]\n",
      " [0.33333333 0.         0.5        0.        ]\n",
      " [0.33333333 0.         0.         1.        ]\n",
      " [0.33333333 0.5        0.5        0.        ]]\n"
     ]
    }
   ],
   "source": [
    "# A[i,j] = probabilidade de chegar na página i vindo da página j\n",
    "A = np.array([[0, 1, 0, 0], [1, 0, 1, 0], [1, 0, 0, 1], [1, 1, 1, 0]])\n",
    "A = A / np.sum(A, axis=0)\n",
    "print(A)"
   ]
  },
  {
   "cell_type": "markdown",
   "metadata": {},
   "source": [
    "1. A matriz $A$ definida acima representa quatro páginas web. Há um link da página $0$ para a página $2$? Há um link da página $2$ para a página $0$?\n",
    "1. Abaixo, há um código que simula o surfista aleatório. Analise criticamente o código e decida se ele, de fato, está simulando um surfista aleatório. Se for o caso, corrija o que estiver errado.\n",
    "2. O código dá resultados significativamente diferentes quando o surfista é inicializado em uma outra página que não a $0$?"
   ]
  },
  {
   "attachments": {},
   "cell_type": "markdown",
   "metadata": {},
   "source": [
    "#O link é possível da página 0 para 2, mas não da 2 para 0"
   ]
  },
  {
   "cell_type": "code",
   "execution_count": 103,
   "metadata": {},
   "outputs": [
    {
     "name": "stdout",
     "output_type": "stream",
     "text": [
      "[0.1069  0.21509 0.35683 0.32118]\n"
     ]
    }
   ],
   "source": [
    "def randomsurfer_pagerank(A, i_init=0):\n",
    "    hops = np.zeros(A.shape[0]) # hops[i] = quantas vezes o surfista caiu na página p_i'\n",
    "    nodes = range(A.shape[0]) # Uma lista com os números das páginas\n",
    "    i_ = i_init # Em que página o surfista está?\n",
    "    for count in range(100000): # Quantos saltos o surfista vai fazer?\n",
    "        hops[i_] += 1 # Conto uma passagem na página que estou\n",
    "        possibilities = A[:,i_] # Probabilidades para links que saem da página i_\n",
    "        next_i = np.random.choice(nodes, p=possibilities) # Escolho a próxima página\n",
    "        i_ = next_i # Navego para próxima página\n",
    "    \n",
    "    hops = hops / np.sum(hops) # Transformo contagens em probabilidades\n",
    "    return hops\n",
    "\n",
    "print(randomsurfer_pagerank(A, 0))"
   ]
  },
  {
   "cell_type": "markdown",
   "metadata": {},
   "source": [
    "# Exercício 13\n",
    "**Objetivo: Modelar as probabilidades de transição do PageRank em forma matricial**\n",
    "\n",
    "Podemos interpretar os elementos da matriz $A$ como a probabilidade de ir para a página $i$ sabendo que estamos na página $j$, isto é:\n",
    "$$\n",
    "a_{i,j} = P(s_t = i | s_{t-1} = j)\n",
    "$$\n",
    "\n",
    "Vamos representar a nossa localização na web através da matriz-coluna $X$. Essa matriz será inicializada com zeros, exceto na posição $0$, que será igual a $1$, significando que estamos na página $0$, isto é:\n",
    "$$\n",
    "X =\n",
    "\\begin{bmatrix}\n",
    "    1 \\\\\n",
    "    0 \\\\\n",
    "    0 \\\\\n",
    "    0\n",
    "\\end{bmatrix}\n",
    "$$\n",
    "\n",
    "1. Calcule (manualmente) a matriz $Y = AX$. \n",
    "2. Qual é a soma dos elementos de $Y$?\n",
    "3. O que cada elemento da matriz $Y$ significa em termos das probabilidades ligadas ao nosso problema?"
   ]
  },
  {
   "cell_type": "code",
   "execution_count": null,
   "metadata": {},
   "outputs": [],
   "source": [
    "#a probabilidade de parar em uma determinada página"
   ]
  },
  {
   "cell_type": "markdown",
   "metadata": {},
   "source": [
    "# Exercício 14\n",
    "**Objetivo: Implementar o algoritmo PageRank com multiplicações matriciais**\n",
    "\n",
    "Nesta seção, faremos uma dedução que hoje, em 10/10/2022, estou achando que é muito importante. Estou acreditando que ela é importante porque esse resultado faz uma ponte entre as probabilidades condicionais e a multiplicação matricial que não está em nenhum livro didático, mas que é usada constantemente em textos de *machine learning*.\n",
    "\n",
    "Vamos partir do seguinte resultado, ligado à soma de probabilidades condicionais:\n",
    "\n",
    "$$\n",
    "P(A) = P(A|C_1)P(C_1) + P(A|C_2)P(C_2) + .... + P(A|C_N)P(C_N),\n",
    "$$\n",
    "\n",
    "que significa que a probabilidade de um evento é igual à soma de todas as probabilidades desse evento ligadas a diferentes condições, poderadas pelas probabilidades das condições.\n",
    "\n",
    "Pelo resultado da soma de probabilidades condicionais, podemos calcular a probabilidade de chegar à página $0$, isto é, $P(s_t = 0)$, somando as probabilidades de chegar na página $0$ à partir de cada uma das páginas $j$ e ponderando pelas probabilidades de estar na página $j$ em primeiro lugar, isto é:\n",
    "\n",
    "$$\n",
    "P(s_t = 0) = P(s_t = 0 | s_{t-1}=0) P(s_{t-1}=0) + P(s_t = 0 | s_{t-1}=1) P(s_{t-1}=1) + ... + P(s_t = 0 | s_{t-1}=N-1) P(s_{t-1}=N-1)\n",
    "$$\n",
    "\n",
    "Podemos generalizar esse resultado para todas as páginas $i$:\n",
    "\n",
    "$$\n",
    "P(s_t = i) = P(s_t = i | s_{t-1}=0) P(s_{t-1}=0) + P(s_t = i | s_{t-1}=1) P(s_{t-1}=1) + ... + P(s_t = i | s_{t-1}=N-1) P(s_{t-1}=N-1)\n",
    "$$\n",
    "\n",
    "Essa expressão pode ser reduzida para uma somatória:\n",
    "\n",
    "$$\n",
    "P(s_t = i) = \\sum_{j=0}^ {N-1}  P(s_t = i | s_{t-1}=j) P(s_{t-1}=j).\n",
    "$$\n",
    "\n",
    "Porém, construímos nossa matriz $A$ de forma que $a[i,j]=P(s_t = i | s_{t-1}=j)$, e nossa matriz-coluna $X$ é tal que $x[j,0] = P(s_{t-1}=j)$, então temos:\n",
    "\n",
    "$$\n",
    "P(s_t = i) =  \\sum_{j=0}^ {N-1} a[i,j] x[j, 0].\n",
    "$$\n",
    "\n",
    "Se representarmos nossas probabilidades $P(s_t=i)$ numa matriz $Y$, passamos a ter:\n",
    "$$\n",
    "\\boldsymbol{Y}  =   \\sum_{j=0}^ {N-1} a[i,j] x[j, 0].\n",
    "$$\n",
    "\n",
    "A expressão à direita dessa equação é uma multiplicação matricial:\n",
    "$$\n",
    "\\boldsymbol{Y}  =  \\boldsymbol{A} \\boldsymbol{X}.\n",
    "$$\n",
    "\n",
    "E, portanto, \"dar um passo\" em nosso navegador probabilístico significa multiplicar nossa matriz de probabilidades atual pela matriz $A$.\n",
    "\n",
    "Tendo em vista esta dedução,\n",
    "1. Implemente o algoritmo PageRank usando multiplicações matriciais.\n",
    "2. Compare o resultado com aquele encontrado usando o navegador aleatório.\n"
   ]
  },
  {
   "cell_type": "code",
   "execution_count": 105,
   "metadata": {},
   "outputs": [],
   "source": [
    "A\n",
    "X = np.array([[0,0,0,1]]).T \n",
    "\n",
    "for _ in range(100):\n",
    "    X = A @ X \n",
    "\n",
    "print(X)"
   ]
  },
  {
   "cell_type": "markdown",
   "metadata": {},
   "source": [
    "# Exercício 16\n",
    "**Objetivo: Executar o PageRank em dados de navegação reais**\n",
    "\n",
    "O arquivo ... tem uma matriz de navegação para dados reais... qual é a página mais relevante dentre essas?\n"
   ]
  },
  {
   "cell_type": "code",
   "execution_count": 4,
   "metadata": {},
   "outputs": [
    {
     "name": "stdout",
     "output_type": "stream",
     "text": [
      "[[1.]\n",
      " [0.]\n",
      " [0.]\n",
      " [0.]\n",
      " [0.]]\n"
     ]
    }
   ],
   "source": [
    "sites = np.array([[1, 0, 1, 0, 0], [0, 1, 0, 1, 0], [0, 1, 1, 0, 1], [0, 0, 0, 1, 1], [0, 0, 1, 0, 1]])\n",
    "sites = sites / np.sum(sites, axis=0) \n",
    "\n",
    "x = np.array([[1, 0, 0, 0, 0]]).T   \n",
    "for i in range(100):\n",
    "    x = sites @ x\n",
    "\n",
    "print(x)"
   ]
  },
  {
   "cell_type": "markdown",
   "metadata": {},
   "source": [
    "# Etapa 4\n",
    "# Exercício 17\n",
    "**Objetivo: escrever um sistema de equações com três variáveis*\n",
    "\n",
    "Três amigos foram a uma feira. O primeiro comprou um pé de alface e duas beterrabas, e pagou um total de 25 reais. O segundo comprou dois pés de alface, uma beterraba e um ramo de coentro, e pagou 22 reais. O terceiro comprou três pés de alface e um ramo de coentro e pagou 17 reais.\n",
    "\n",
    "Neste exercício, vamos descobrir quanto custa cada pé de alface, cada beterraba e cada ramo de coentro isoladamente. Para isso, escreva (no papel!) as equações que permitem calcular o custo de cada uma das compras. Use as variáveis $A$, $B$ e $C$ para representar os preços de cada um dos ítens da compra. Ao fim dessa etapa, você deve encontrar algo parecido com:\n",
    "\n",
    "$\n",
    "\\begin{cases}\n",
    "    \\begin{aligned}\n",
    "    \\text{Preço da compra 1} & = \\text{Qt alface na compra 1} \\times \\text{Preço do alface} + \\text{Qt beterraba na compra 1} \\times \\text{Preço da beterraba} + \\text{Qt coentro na compra 1} \\times \\text{Preço do coentro} \\\\\n",
    "    \\text{Preço da compra 2} & = \\text{Qt alface na compra 2} \\times \\text{Preço do alface} + \\text{Qt beterraba na compra 2} \\times \\text{Preço da beterraba} + \\text{Qt coentro na compra 2} \\times \\text{Preço do coentro} \\\\\n",
    "    ... & = \\sum_{\\text{ítens}} \\text{Quantidade do ítem na compra} \\times \\text{Preço do ítem}\n",
    "    \\end{aligned}\n",
    "\\end{cases}\n",
    "$\n",
    "\n",
    "\n",
    "\n"
   ]
  },
  {
   "attachments": {},
   "cell_type": "markdown",
   "metadata": {},
   "source": [
    "A + 2B = 25\n",
    "2A + B + C = 22\n",
    "3A + C = 17"
   ]
  },
  {
   "cell_type": "markdown",
   "metadata": {},
   "source": [
    "# Exercício 18\n",
    "**Objetivo: resolver o sistema linear por substituição**\n",
    "\n",
    "Quando temos várias equações diferentes que usam as mesmas variáveis, dizemos que trata-se de um \"sistema de equações\". Uma das maneiras de resolver um sistema de equações é escolher uma variável, resolver uma das equações para essa variável, e então substituir o valor dessa variável nas equações restantes. Por exemplo, se tivermos:\n",
    "\n",
    "$\n",
    "\\begin{cases}\n",
    "    \\begin{aligned}\n",
    "    3 & = -A + B \\\\\n",
    "    2 & = 2A + 2B\n",
    "    \\end{aligned}\n",
    "\\end{cases}\n",
    "$\n",
    "\n",
    "podemos escrever a primeira equação como $A = B-3$, e então substituir esse valor na segunda equação, encontrando: $2 = 2 (B-3) + 2B = 2B - 6 + 2B = 4B-6$.\n",
    "\n",
    "Isolando $B$ na segunda equação, temos $4B=8$ e, portanto, $B=2$. Voltando na primeira equação, temos $A=2-3=-1$.\n",
    "\n",
    "Aplique esse método de substituição para resolver o sistema de equações que você encontrou para o caso das compras."
   ]
  },
  {
   "cell_type": "markdown",
   "metadata": {},
   "source": [
    "# Exercício 19\n",
    "**Objetivo: relacionar um sistema linear com sua representação matricial**\n",
    "\n",
    "Podemos escrever um sistema linear na forma de uma multiplicação de matrizes, assim como fizemos com o caso dos sistemas dinâmicos. O sistema que vimos no exercício anterior, por exemplo, poderia ser escrito como:\n",
    "\n",
    "$$\n",
    "\\begin{bmatrix}\n",
    "    3 \\\\\n",
    "    2 \n",
    "\\end{bmatrix}\n",
    "=\n",
    "\\begin{bmatrix}\n",
    "    -1 & 1\\\\\n",
    "    2 & 2\n",
    "\\end{bmatrix} \n",
    "\\begin{bmatrix}\n",
    "    A \\\\\n",
    "    B\n",
    "\\end{bmatrix}\n",
    "$$\n",
    "\n",
    "1. Realize (manualmente, no papel) a multiplicação matricial na representação acima, mostrando que, de fato, representação matricial é equivalente ao sistema de equações.\n",
    "2. Encontre a representação matricial para o sistema de equações que você escreveu no exercício 17.\n"
   ]
  },
  {
   "cell_type": "code",
   "execution_count": null,
   "metadata": {},
   "outputs": [],
   "source": [
    "[[25], [22], [17]] = [[1, 2, 0], [2, 1, 1], [3, 0, 1]] [[a], [b], [c]]"
   ]
  },
  {
   "cell_type": "markdown",
   "metadata": {},
   "source": [
    "# Exercício 20\n",
    "**Objetivo: entender o que é uma matriz identidade**\n",
    "\n",
    "Quando temos uma equação com variáveis simples, como $y=3x$, é possível encontrar $x$ usando o \"passar dividindo\" o $3$, resultando em: $\\frac{y}{3}=x$.\n",
    "\n",
    "Veja, quando estamos \"passando dividindo\", na verdade estamos dividindo ambos os lados da equação pelo mesmo valor, isto é:\n",
    "\n",
    "$\n",
    "\\begin{aligned}\n",
    "y & = 3 x \\\\\n",
    "\\frac{y}{3} & = \\frac{3x}{3} \\\\\n",
    "\\frac{y}{3} & = x  \n",
    "\\end{aligned}\n",
    "$\n",
    "\n",
    "Veja que estamos usando a propriedade de que, para qualquer número real $a$ diferente de zero, $a \\times \\frac{1}{a} = 1$. Nos números reais, $1$ é um número especial porque $1$ multiplicado por qualquer número resulta no próprio número.\n",
    "\n",
    "Seguindo esse mesmo raciocínio, vamos definir uma matriz especial que tem esse mesmo papel do $1$, mas no contexto da multiplicação matricial. Essa matriz é a matriz identidade ($\\boldsymbol{I}$), que é uma matriz quadrada da dimensão que escolhermos, composta inteiramente de zeros, exceto pela sua diagonal principal, que é composta de 1s. Então, temos, por exemplo:\n",
    "\n",
    "$$\n",
    "\\boldsymbol{I_{3}} =\n",
    "\\begin{bmatrix}\n",
    "    1 & 0 & 0\\\\\n",
    "    0 & 1 & 0 \\\\\n",
    "    0 & 0 & 1\n",
    "\\end{bmatrix}\n",
    "$$ \n",
    "\n",
    "Para convencer-se de que a matriz identidade é equivalente ao $1$, mas no contexto de matrizes, realize as multiplicações:\n",
    "\n",
    "1. \n",
    "$\n",
    "\\begin{bmatrix}\n",
    "    1 & 0 \\\\\n",
    "    0 & 1   \n",
    "\\end{bmatrix}\n",
    "\\begin{bmatrix}\n",
    "    a & b \\\\\n",
    "    c & d   \n",
    "\\end{bmatrix}\n",
    "$ \n",
    "\n",
    "2.\n",
    "$\n",
    "\\begin{bmatrix}\n",
    "    a & b \\\\\n",
    "    c & d   \n",
    "\\end{bmatrix}\n",
    "\\begin{bmatrix}\n",
    "    1 & 0 \\\\\n",
    "    0 & 1   \n",
    "\\end{bmatrix}\n",
    "$ \n"
   ]
  },
  {
   "cell_type": "markdown",
   "metadata": {},
   "source": [
    "# Exercício 21\n",
    "**Objetivo: Usar uma matriz inversa e usar para resolver o sistema**\n",
    "\n",
    "No caso da equação $y=3x$, usamos a ideia de dividir os dois lados da equação por $3$. Podemos interpretar essa mesma operação como *multiplicar* os dois lados da equação pelo *inverso* de 3, isto é, $1/3$. Podemos escrever o *inverso* de $3$ como $3^{-1}$, e então a solução da equação seria:\n",
    "\n",
    "$\n",
    "\\begin{aligned}\n",
    "y & = 3 x \\\\\n",
    "3^{-1} y & = 3^{-1} 3 x \\\\\n",
    "3^{-1} y & = 1 x \\\\\n",
    "3^{-1} y & = x  \n",
    "\\end{aligned}\n",
    "$\n",
    "\n",
    "Essa mesma ideia pode ser usada com matrizes. Veja, em nosso caso, estamos encontrando uma *matriz inversa*. A matriz inversa de uma matriz $\\boldsymbol{A}$ é denotada $\\boldsymbol{A}^{-1}$. A multiplicação de uma matriz pela sua inversa resulta na identidade, isto é: $A A^{-1} = I$. Então, para resolver um sistema de equações, podemos usar:\n",
    "\n",
    "$\n",
    "\\begin{aligned}\n",
    "y & = A x \\\\\n",
    "A^{-1} y & = A^{-1} A x \\\\\n",
    "A^{-1} y & = I x \\\\\n",
    "A^{-1} y & = x  \n",
    "\\end{aligned}\n",
    "$\n",
    "\n",
    "*Importante:* lembre-se que a multiplicação matricial não é comutativa, isto é,  $Ax \\neq xA$!\n",
    "\n",
    "Em Python, o método `np.linalg.inv(X)` retorna a inversa da matriz $X$.\n",
    "\n",
    "Escreva um programa que usa os dados dos exercícios anteriores para calcular o preço do alface, da beterraba e do coentro.\n"
   ]
  },
  {
   "cell_type": "code",
<<<<<<< HEAD
   "execution_count": 5,
=======
   "execution_count": 6,
>>>>>>> e8ddb0b07887e78fa53d7f92b8d3973c3adff92c
   "metadata": {},
   "outputs": [
    {
     "name": "stdout",
     "output_type": "stream",
     "text": [
<<<<<<< HEAD
      "[[ 5.]\n",
      " [10.]\n",
      " [ 2.]]\n"
=======
      "[ 5. 10.  2.]\n"
>>>>>>> e8ddb0b07887e78fa53d7f92b8d3973c3adff92c
     ]
    }
   ],
   "source": [
<<<<<<< HEAD
    "A = np.array([[1, 2, 0], [2, 1, 1], [3, 0, 1]])\n",
    "Y = np.array([[25], [22], [17]])\n",
    "\n",
    "X = np.linalg.inv(A) @ Y\n",
    "\n",
    "print(X)"
=======
    "import numpy as np \n",
    "A = np.array([[1,2,0],[2,1,1],[3,0,1]])\n",
    "Y = np.array([25,22,17])\n",
    "print(np.linalg.inv(A) @ Y)\n"
>>>>>>> e8ddb0b07887e78fa53d7f92b8d3973c3adff92c
   ]
  },
  {
   "cell_type": "markdown",
   "metadata": {},
   "source": [
    "# Exercício 22\n",
    "**Objetivo: resolver um sistema linear com o pacote de álgebra linear de Python**\n",
    "\n",
    "Resolver sistemas lineares é uma tarefa muito comum e muito bem estudada. Por isso, há uma função em Python (e na maior parte das linguagens computacionais) que permite calcular as soluções para um sistema.\n",
    "\n",
    "A função `np.linalg.solve(a, b)` assume que estamos tratando de um sistema $ax=b$, e calcula os valores para $x$. Por exemplo, para o sistema:\n",
    "\n",
    "$$\n",
    "\\begin{bmatrix}\n",
    "    3 \\\\\n",
    "    2 \n",
    "\\end{bmatrix}\n",
    "=\n",
    "\\begin{bmatrix}\n",
    "    -1 & 2\\\\\n",
    "    2 & 2\n",
    "\\end{bmatrix} \n",
    "\\begin{bmatrix}\n",
    "    A \\\\\n",
    "    B\n",
    "\\end{bmatrix}\n",
    "$$\n",
    "\n",
    "usamos:"
   ]
  },
  {
   "cell_type": "code",
   "execution_count": 3,
   "metadata": {},
   "outputs": [
    {
     "name": "stdout",
     "output_type": "stream",
     "text": [
      "[[-0.33333333]\n",
      " [ 1.33333333]]\n"
     ]
    }
   ],
   "source": [
    "b = np.array([ [3], [2]] )\n",
    "a = np.array([[-1, 2], [2, 2]])\n",
    "x = np.linalg.solve(a,b)\n",
    "print(x)"
   ]
  },
  {
   "cell_type": "code",
   "execution_count": null,
   "metadata": {},
   "outputs": [],
   "source": [
    "b = np.array([ [0.8, 1.6], [1.7, 1.3]] )\n",
    "a = np.array([[1.8, 1.9], [0.7, 0.6]])\n",
    "x = np.linalg.solve(a,b)\n",
    "print(x)"
   ]
  },
  {
   "cell_type": "markdown",
   "metadata": {},
   "source": [
    "Use a função `linalg.solve` para determinar o preço das alfaces, beterrabas e do coentro no nosso problema de feira."
   ]
  },
  {
   "cell_type": "code",
   "execution_count": 7,
   "metadata": {},
   "outputs": [
    {
<<<<<<< HEAD
     "ename": "LinAlgError",
     "evalue": "Singular matrix",
     "output_type": "error",
     "traceback": [
      "\u001b[1;31m---------------------------------------------------------------------------\u001b[0m",
      "\u001b[1;31mLinAlgError\u001b[0m                               Traceback (most recent call last)",
      "\u001b[1;32mc:\\Users\\Julia Paiva\\Insper\\23.1\\alglin\\alglin-alunos\\02-sistemas_lineares.ipynb Cell 64\u001b[0m in \u001b[0;36m<cell line: 3>\u001b[1;34m()\u001b[0m\n\u001b[0;32m      <a href='vscode-notebook-cell:/c%3A/Users/Julia%20Paiva/Insper/23.1/alglin/alglin-alunos/02-sistemas_lineares.ipynb#Y135sZmlsZQ%3D%3D?line=0'>1</a>\u001b[0m B \u001b[39m=\u001b[39m np\u001b[39m.\u001b[39marray([[\u001b[39m-\u001b[39m\u001b[39m7\u001b[39m,\u001b[39m-\u001b[39m\u001b[39m3\u001b[39m,\u001b[39m-\u001b[39m\u001b[39m1\u001b[39m],[\u001b[39m-\u001b[39m\u001b[39m9\u001b[39m,\u001b[39m6\u001b[39m,\u001b[39m0\u001b[39m], [\u001b[39m0\u001b[39m,\u001b[39m0\u001b[39m,\u001b[39m0\u001b[39m]])\n\u001b[0;32m      <a href='vscode-notebook-cell:/c%3A/Users/Julia%20Paiva/Insper/23.1/alglin/alglin-alunos/02-sistemas_lineares.ipynb#Y135sZmlsZQ%3D%3D?line=1'>2</a>\u001b[0m R \u001b[39m=\u001b[39m np\u001b[39m.\u001b[39marray([[\u001b[39m6\u001b[39m],[\u001b[39m1\u001b[39m],[\u001b[39m0\u001b[39m]])\n\u001b[1;32m----> <a href='vscode-notebook-cell:/c%3A/Users/Julia%20Paiva/Insper/23.1/alglin/alglin-alunos/02-sistemas_lineares.ipynb#Y135sZmlsZQ%3D%3D?line=2'>3</a>\u001b[0m \u001b[39mprint\u001b[39m(np\u001b[39m.\u001b[39;49mlinalg\u001b[39m.\u001b[39;49msolve(B,R))\n",
      "File \u001b[1;32m<__array_function__ internals>:180\u001b[0m, in \u001b[0;36msolve\u001b[1;34m(*args, **kwargs)\u001b[0m\n",
      "File \u001b[1;32mc:\\Users\\Julia Paiva\\AppData\\Local\\Programs\\Python\\Python310\\lib\\site-packages\\numpy\\linalg\\linalg.py:400\u001b[0m, in \u001b[0;36msolve\u001b[1;34m(a, b)\u001b[0m\n\u001b[0;32m    398\u001b[0m signature \u001b[39m=\u001b[39m \u001b[39m'\u001b[39m\u001b[39mDD->D\u001b[39m\u001b[39m'\u001b[39m \u001b[39mif\u001b[39;00m isComplexType(t) \u001b[39melse\u001b[39;00m \u001b[39m'\u001b[39m\u001b[39mdd->d\u001b[39m\u001b[39m'\u001b[39m\n\u001b[0;32m    399\u001b[0m extobj \u001b[39m=\u001b[39m get_linalg_error_extobj(_raise_linalgerror_singular)\n\u001b[1;32m--> 400\u001b[0m r \u001b[39m=\u001b[39m gufunc(a, b, signature\u001b[39m=\u001b[39;49msignature, extobj\u001b[39m=\u001b[39;49mextobj)\n\u001b[0;32m    402\u001b[0m \u001b[39mreturn\u001b[39;00m wrap(r\u001b[39m.\u001b[39mastype(result_t, copy\u001b[39m=\u001b[39m\u001b[39mFalse\u001b[39;00m))\n",
      "File \u001b[1;32mc:\\Users\\Julia Paiva\\AppData\\Local\\Programs\\Python\\Python310\\lib\\site-packages\\numpy\\linalg\\linalg.py:89\u001b[0m, in \u001b[0;36m_raise_linalgerror_singular\u001b[1;34m(err, flag)\u001b[0m\n\u001b[0;32m     88\u001b[0m \u001b[39mdef\u001b[39;00m \u001b[39m_raise_linalgerror_singular\u001b[39m(err, flag):\n\u001b[1;32m---> 89\u001b[0m     \u001b[39mraise\u001b[39;00m LinAlgError(\u001b[39m\"\u001b[39m\u001b[39mSingular matrix\u001b[39m\u001b[39m\"\u001b[39m)\n",
      "\u001b[1;31mLinAlgError\u001b[0m: Singular matrix"
=======
     "name": "stdout",
     "output_type": "stream",
     "text": [
      "[ 5. 10.  2.]\n"
>>>>>>> e8ddb0b07887e78fa53d7f92b8d3973c3adff92c
     ]
    }
   ],
   "source": [
<<<<<<< HEAD
    "\n",
    "B = np.array([[-7,-3,-1],[-9,6,0], [0,0,0]])\n",
    "R = np.array([[6],[1],[0]])\n",
    "print(np.linalg.solve(B,R))\n"
   ]
  },
  {
   "cell_type": "code",
   "execution_count": 2,
   "metadata": {},
   "outputs": [
    {
     "name": "stdout",
     "output_type": "stream",
     "text": [
      "[[-0.93939394]\n",
      " [-1.24242424]\n",
      " [ 4.3030303 ]\n",
      " [ 1.87878788]]\n"
     ]
    }
   ],
   "source": [
    "#Trecho P1->P2\n",
    "\n",
    "import numpy as np\n",
    "B = np.array([[1,1,1,1],[8,4,2,1],[3,2,1,0],[12,-4,1,0] ])\n",
    "R = np.array([[4],[-2],[-1],[-2]])\n",
    "print(np.linalg.solve(B,R))\n"
   ]
  },
  {
   "cell_type": "code",
   "execution_count": 3,
   "metadata": {},
   "outputs": [
    {
     "name": "stdout",
     "output_type": "stream",
     "text": [
      "[[ -2.]\n",
      " [ 14.]\n",
      " [-30.]\n",
      " [ 18.]]\n"
     ]
    }
   ],
   "source": [
    "#Trecho P2->P3\n",
    "\n",
    "import numpy as np\n",
    "B = np.array([[8,4,2,1],[27,9,3,1],[12,4,1,0],[27,6,1,0] ])\n",
    "R = np.array([[-2],[0],[2],[0]])\n",
    "print(np.linalg.solve(B,R))\n"
   ]
  },
  {
   "cell_type": "code",
   "execution_count": 6,
   "metadata": {},
   "outputs": [
    {
     "name": "stdout",
     "output_type": "stream",
     "text": [
      "[[   4.]\n",
      " [ -42.]\n",
      " [ 144.]\n",
      " [-162.]]\n"
     ]
    }
   ],
   "source": [
    "#Trecho P3->P4\n",
    "\n",
    "\n",
    "import numpy as np\n",
    "B = np.array([[27,9,3,1],[64,16,4,1],[27,6,1,0],[48,8,1,0] ])\n",
    "R = np.array([[0],[-2],[0],[0]])\n",
    "print(np.linalg.solve(B,R))\n"
   ]
  },
  {
   "cell_type": "code",
   "execution_count": 1,
   "metadata": {},
   "outputs": [
    {
     "name": "stdout",
     "output_type": "stream",
     "text": [
      "[[4.7486 4.2569 2.8    2.4907 2.6069 4.0521 3.621  4.5532 4.1413 4.1725]\n",
      " [3.575  2.9399 3.0062 2.0193 2.1837 3.2059 3.1307 4.1318 2.8959 3.9421]\n",
      " [4.0546 3.6451 2.8867 2.7399 2.5535 4.1308 3.5226 4.6327 3.6732 4.1035]\n",
      " [3.9528 3.7577 2.5243 2.2905 2.5404 3.6704 3.268  4.2156 3.6091 3.6427]\n",
      " [4.3954 3.3158 3.2601 2.3988 2.423  3.8056 3.2173 5.1603 2.901  4.4078]\n",
      " [4.2832 3.057  2.4509 2.4325 2.2929 3.6496 3.3352 4.394  3.3174 4.2555]\n",
      " [3.7407 2.8346 2.5196 1.7434 1.8754 2.8502 2.7876 3.765  2.4669 3.3956]\n",
      " [3.1518 2.259  2.4191 2.2088 1.8421 3.0843 2.4886 3.391  2.0461 3.1488]\n",
      " [3.2702 2.7057 2.1843 1.8843 1.7587 2.9378 2.3321 3.4694 2.3322 2.988 ]\n",
      " [4.7509 3.9852 2.7786 2.8879 2.7803 4.0855 3.8669 4.9805 4.0563 4.4556]\n",
      " [3.7735 2.6948 2.1423 2.3095 2.1452 3.5856 2.8384 4.4783 2.6292 3.7919]]\n"
     ]
    }
   ],
   "source": [
    "import numpy as np\n",
    "\n",
    "A = np.array([[0.20, 0.65, 0.69, 0.59, 0.99, 0.03, 0.76, 0.58, 0.16, 0.99, 0.91], [0.68, 0.65, 0.68, 0.37, 0.12, 0.31, 0.55, 0.43, 0.95, 0.59, 0.35], [0.70, 0.28, 0.81, 0.90, 0.67, 0.55, 0.29, 0.75, 0.37, 0.82, 0.29], [0.26, 0.67, 0.97, 0.84, 0.21, 0.35, 0.39, 0.20, 0.18, 0.75, 0.97], [0.93, 0.76, 0.97, 0.19, 0.12, 0.92, 0.95, 0.00, 0.85, 0.58, 0.39], [0.69, 0.64, 0.88, 0.33, 0.93, 0.78, 0.06, 0.65, 0.39, 0.37, 0.31], [0.14, 0.62, 0.44, 0.33, 0.21, 0.35, 1.00, 0.02, 0.65, 0.24, 0.99], [0.50, 0.01, 0.28, 0.43, 0.21, 0.74, 0.82, 0.86, 0.62, 0.29, 0.06], [0.54, 0.39, 0.63, 0.60, 0.37, 0.47, 0.77, 0.18, 0.15, 0.26, 0.34], [0.75, 0.92, 0.89, 0.38, 0.77, 0.92, 0.04, 0.44, 0.21, 0.90, 0.66], [0.89, 0.03, 0.84, 0.68, 0.50, 0.95, 0.56, 0.20, 0.19, 0.00, 0.64]])\n",
    "B = np.array([[0.29, 0.37, 0.44, 0.37, 0.43, 0.38, 0.58, 0.91, 0.53, 0.92], [0.97, 0.93, 0.80, 0.38, 0.35, 0.19, 0.75, 0.24, 0.70, 0.62], [0.76, 0.34, 0.02, 0.08, 0.55, 0.94, 0.11, 0.95, 0.58, 0.90], [0.41, 0.94, 0.89, 0.61, 0.32, 0.75, 0.79, 0.64, 0.65, 0.35], [0.99, 0.48, 0.28, 0.24, 0.00, 0.56, 0.55, 0.87, 0.58, 0.76], [0.80, 0.31, 0.31, 0.82, 0.33, 0.72, 0.46, 0.84, 0.07, 0.37], [0.89, 0.62, 0.62, 0.33, 0.25, 0.66, 0.11, 0.66, 0.09, 0.47], [0.79, 0.47, 0.30, 0.71, 0.75, 0.79, 0.73, 0.22, 0.81, 0.89], [0.43, 0.01, 0.98, 0.06, 0.11, 0.35, 0.75, 0.98, 0.16, 0.98], [0.27, 0.95, 0.46, 0.47, 0.44, 0.63, 0.43, 0.67, 0.80, 0.11], [0.90, 0.68, 0.12, 0.39, 0.70, 0.60, 0.95, 0.93, 0.95, 0.94]])\n",
    "\n",
    "print (A@B)"
   ]
  },
  {
   "cell_type": "code",
   "execution_count": 2,
   "metadata": {},
   "outputs": [
    {
     "name": "stdout",
     "output_type": "stream",
     "text": [
      "[[3.086582 1.427858 1.613233 1.734694 2.944772]\n",
      " [1.64953  1.04852  0.937127 1.181194 1.623176]\n",
      " [1.786764 0.820633 0.932208 0.99587  1.708894]\n",
      " [2.220501 1.005741 1.159302 1.198397 2.165407]]\n"
     ]
    }
   ],
   "source": [
    "import numpy as np\n",
    "\n",
    "A = np.array([[0.46, 0.57, 0.82, 0.72], [0.68, 0.37, 0.04, 0.44], [0.20, 0.04, 0.65, 0.85], [0.15, 0.87, 0.22, 0.60]])\n",
    "B = np.array([[0.51, 0.85, 0.20, 0.34], [0.89, 0.24, 0.57, 0.42], [0.44, 0.09, 0.82, 0.70], [0.54, 0.23, 0.07, 0.02]])\n",
    "C = np.array([[0.80, 0.31, 0.49, 0.28, 0.92], [0.37, 0.80, 0.24, 0.87, 0.33], [0.92, 0.11, 0.06, 0.38, 0.70], [0.57, 0.23, 0.64, 0.22, 0.53]])\n",
    "\n",
    "print((A@B)@C)"
=======
    "# Resolva aqui\n",
    "import numpy as np \n",
    "A = np.array([[1,2,0],[2,1,1],[3,0,1]])\n",
    "Y = np.array([25,22,17])\n",
    "print(np.linalg.solve(A,Y))"
>>>>>>> e8ddb0b07887e78fa53d7f92b8d3973c3adff92c
   ]
  },
  {
   "attachments": {},
   "cell_type": "markdown",
   "metadata": {},
   "source": [
    "# Exercício 23\n",
    "**Objetivo: aplicar a solução de sistemas lineares para uma situação-problema**\n",
    "\n",
    "Uma bola de futebol, modelo oficial da copa de 2022, foi jogada para cima e sua trajetória foi capturada por uma câmera de \n",
    "\n",
    "No primeiro *frame* ( $t=0$ s), a bola está sendo lançada, isto é, está exatamente no ponto em que vai eventualmente cair.\n",
    "\n",
    "No segundo *frame* ( $t=1/30$ s), a bola está a $0.3286$ m do chão.\n",
    "\n",
    "No terceiro *frame* ( $t=2/30$ s), a bola está a $0.6477$ m do chão.\n",
    "\n",
    "No quarto *frame* ( $t=3/30$ s), a bola está a $0.9575$  do chão.\n",
    "\n",
    "Conhecendo a [aceleração da gravidade em cada planeta do sistema solar](https://www.todamateria.com.br/gravidade/), e lembrando da equação do movimento uniformemente variado $s = s_0 + v_0t + at^2/2$, use as técnicas que vimos nesta aula para responder:\n",
    " \n",
    "1. Qual é a aceleração da gravidade, e qual é a velocidade inicial da bola? (resposta esperada: $-8.5m/s^2$ e $10m/s$)\n",
    "2. Em que planeta essa bola foi jogada?\n",
    "3. Modifique o código gerador de dados para outros planetas e velocidades iniciais da bola e teste seu sistema com novos dados de entrada"
   ]
  },
  {
   "cell_type": "code",
   "execution_count": 22,
   "metadata": {},
   "outputs": [
    {
     "name": "stdout",
     "output_type": "stream",
     "text": [
      "[0.         0.32861111 0.64777778 0.9575    ]\n"
     ]
    }
   ],
   "source": [
    "# Este código gerou os dados:\n",
    "a = -8.5\n",
    "s0 = 0\n",
    "v0 = 10\n",
    "t = np.array([0/30, 1/30, 2/30, 3/30])\n",
    "s = s0 + v0*t + a*t**2/2\n",
    "print(s)"
   ]
  },
  {
   "cell_type": "code",
   "execution_count": 8,
   "metadata": {},
   "outputs": [
    {
     "name": "stdout",
     "output_type": "stream",
     "text": [
      "[ 2.0000e-04  9.9915e+00 -8.3700e+00]\n"
     ]
    }
   ],
   "source": [
    "A = np.array([[1,1/30,1/1800],[1,1/15,1/450],[1,1/10,1/200]])\n",
    "Y = np.array([0.3286,0.6477,0.9575])\n",
    "print(np.linalg.solve(A,Y))"
   ]
  },
  {
   "cell_type": "markdown",
   "metadata": {},
   "source": [
    "\n",
    "\n",
    "# Projeto: criptografia com clone digital da máquina Enigma"
   ]
  },
  {
   "cell_type": "markdown",
   "metadata": {},
   "source": [
    "A ideia de enviar mensagens que não podem ser interceptadas é muito antiga. Uma das técnicas mais antigas para isso é a [cifra de substituição](https://pt.wikipedia.org/wiki/Cifra_de_substitui%C3%A7%C3%A3o), que consiste em trocar as letras da mensagem de entrada por outras letra do alfabeto. Essa é uma técnica simples, cujo processo para codificação e decodificação é essencialmente o mesmo. Ele pode ser implementada como no algoritmo abaixo:"
   ]
  },
  {
   "cell_type": "code",
   "execution_count": 10,
   "metadata": {},
   "outputs": [
    {
     "name": "stdout",
     "output_type": "stream",
     "text": [
      "oaco oaefadiodo btfagjdbaprontoaqubtroaiorbsaebatbref\n",
      "o bolo de chocolate fica pronto quatro horas da tarde\n"
     ]
    }
   ],
   "source": [
    "alfabeto_normal = \"abcdefghijklmnopqrstuvwxyz \"\n",
    "alfabeto_cifrado = \"bcdefghijkl mnopqrstuvwxyza\"\n",
    "mensagem_entrada = \"o bolo de chocolate fica pronto quatro horas da tarde\"\n",
    "\n",
    "def cifrar(mensagem_entrada, alfabeto_normal, alfabeto_cifrado):\n",
    "    mensagem_cifrada = \"\"\n",
    "    for i in range(len(mensagem_entrada)):\n",
    "        c = mensagem_entrada[i]\n",
    "        idx = alfabeto_normal.index(c)\n",
    "        mensagem_cifrada += alfabeto_cifrado[idx]\n",
    "    return mensagem_cifrada\n",
    "\n",
    "mensagem_cifrada = cifrar(mensagem_entrada, alfabeto_normal, alfabeto_cifrado)\n",
    "mensagem_recuperada = cifrar(mensagem_cifrada, alfabeto_cifrado, alfabeto_normal)\n",
    "\n",
    "print(mensagem_cifrada)\n",
    "print(mensagem_recuperada)"
   ]
  },
  {
   "cell_type": "markdown",
   "metadata": {},
   "source": [
    "O problema desse tipo de criptografia é que a frequência das letras em cada língua é bastante diferente. A letra \"A\", por exemplo, aparece em muito mais palavras em português que a letra \"Z\". Então, se um número suficiente de mensagens for interceptado, podemos analisar as frequências das letras e descobrir que foi a regra de substituição que foi usada.\n",
    "\n",
    "Durante a Segunda Guerra Mundial, o exército alemão passou a usar um tipo de cifra que foi implementado nas [máquinas Enigma](https://pt.wikipedia.org/wiki/Enigma_(m%C3%A1quina)). As máquinas enigma passam o alfabeto cifrado por um segundo processo de cifra a cada novo caractere cifrado. Então, o algoritmo funcionaria da seguinte forma:\n"
   ]
  },
  {
   "cell_type": "code",
   "execution_count": 12,
   "metadata": {},
   "outputs": [
    {
     "name": "stdout",
     "output_type": "stream",
     "text": [
      "oirkcysrlnxjwhlda evistzfakouikdo ozdibqdntrhswccsojr\n"
     ]
    }
   ],
   "source": [
    "alfabeto_normal = \"abcdefghijklmnopqrstuvwxyz \"\n",
    "alfabeto_cifrado = \"bcdefghijkl mnopqrstuvwxyza\"\n",
    "cifrador_auxiliar = \"ijkl mnopqrstuvwxyzabcdefgh\"\n",
    "mensagem_entrada = \"o bolo de chocolate fica pronto quatro horas da tarde\"\n",
    "\n",
    "def enigma(mensagem_entrada, alfabeto_normal, alfabeto_cifrado, cifrador_auxiliar):\n",
    "    mensagem_cifrada = \"\"\n",
    "    for i in range(len(mensagem_entrada)):\n",
    "        c = mensagem_entrada[i]\n",
    "        idx = alfabeto_normal.index(c)\n",
    "        mensagem_cifrada += alfabeto_cifrado[idx]\n",
    "        alfabeto_cifrado = cifrar(alfabeto_cifrado, alfabeto_normal, cifrador_auxiliar)\n",
    "    return mensagem_cifrada\n",
    "\n",
    "mensagem_cifrada = enigma(mensagem_entrada, alfabeto_normal, alfabeto_cifrado, cifrador_auxiliar)\n",
    "\n",
    "print(mensagem_cifrada)"
   ]
  },
  {
   "cell_type": "markdown",
   "metadata": {},
   "source": [
    "Neste trabalho, vamos implementar a máquina Enigma usando ferramentas de álgebra linear.\n",
    "\n",
    "## Representando caracteres como vetores: *one-hot encoding*\n",
    "\n",
    "Uma maneira de representar um caractere é como uma matriz-coluna. Essa matriz tem tantas linhas quantas forem os caracteres possíveis no seu alfabeto. Todos os seus elementos são iguais a zero, exceto por aquele que corresponde ao caractere que está sendo representado. Poderíamos, por exemplo, representar um alfabeto de três letras usando:\n",
    "\n",
    "\n",
    "$$\n",
    "A =\n",
    "\\begin{bmatrix}\n",
    "    1 \\\\\n",
    "    0 \\\\\n",
    "    0\n",
    "\\end{bmatrix}\n",
    "\\hspace{0.5in}\n",
    "\n",
    "B =\n",
    "\\begin{bmatrix}\n",
    "    0 \\\\\n",
    "    1 \\\\\n",
    "    0\n",
    "\\end{bmatrix}\n",
    "\\hspace{0.5in}\n",
    "C =\n",
    "\\begin{bmatrix}\n",
    "    0 \\\\\n",
    "    0 \\\\\n",
    "    1\n",
    "\\end{bmatrix}\n",
    "$$\n",
    "\n",
    "Então, uma mensagem pode ser representada como uma matriz $M \\in \\mathbb{R}^{N \\times T}$, onde $N$ é o número de caracteres possíveis no alfabeto e $T$ é o número de caracteres na mensagem. A mensagem \"AABBCC\" seria então representada como:\n",
    "\n",
    "$$\n",
    "M = \n",
    "\\begin{bmatrix}\n",
    "    1 &  1 & 0 & 0 & 0 & 0 \\\\\n",
    "    0 &  0 & 1 & 1 & 0 & 0 \\\\\n",
    "    0 &  0 & 0 & 0 & 1 & 1 \n",
    "\\end{bmatrix}\n",
    "$$\n",
    "\n",
    "## Fazendo uma cifra usando uma multiplicação matricial\n",
    "É claro que, se multiplicamos a matriz $M$ por uma matriz identidade $I$, encontramos a própria matriz $M$:\n",
    "$$\n",
    "\\begin{bmatrix}\n",
    "1 & 0 & 0 \\\\\n",
    "0 & 1 & 0 \\\\\n",
    "0 & 0 & 1\n",
    "\\end{bmatrix}\n",
    "\\begin{bmatrix}\n",
    "    1 &  1 & 0 & 0 & 0 & 0 \\\\\n",
    "    0 &  0 & 1 & 1 & 0 & 0 \\\\\n",
    "    0 &  0 & 0 & 0 & 1 & 1 \n",
    "\\end{bmatrix}\n",
    "= \n",
    "\\begin{bmatrix}\n",
    "    1 &  1 & 0 & 0 & 0 & 0 \\\\\n",
    "    0 &  0 & 1 & 1 & 0 & 0 \\\\\n",
    "    0 &  0 & 0 & 0 & 1 & 1 \n",
    "\\end{bmatrix}\n",
    "$$\n",
    "\n",
    "Porém, veja o que acontece quando permutamos as linhas da matriz $I$ (que, claro, deixa de ser uma matriz identidade e passa a ser uma matriz de permutação $P$):\n",
    "\n",
    "$$\n",
    "\\begin{bmatrix}\n",
    "0 & 0 & 1 \\\\\n",
    "1 & 0 & 0 \\\\\n",
    "0 & 1 & 0 \n",
    "\\end{bmatrix}\n",
    "\\begin{bmatrix}\n",
    "    1 &  1 & 0 & 0 & 0 & 0 \\\\\n",
    "    0 &  0 & 1 & 1 & 0 & 0 \\\\\n",
    "    0 &  0 & 0 & 0 & 1 & 1 \n",
    "\\end{bmatrix}\n",
    "= \n",
    "\\begin{bmatrix}\n",
    "    0 &  0 & 0 & 0 & 1 & 1 \\\\\n",
    "    1 &  1 & 0 & 0 & 0 & 0 \\\\\n",
    "    0 &  0 & 1 & 1 & 0 & 0 \n",
    "\\end{bmatrix}\n",
    "$$\n",
    "\n",
    "Isso nos dá uma maneira bastante compacta de encontrar mensagens cifradas, e também um processo rápido para voltar à mensagem original:\n",
    "\n",
    "$\n",
    "\\begin{aligned}\n",
    "P M & = M_c \\\\\n",
    "P^{-1} P M & = P^{-1} M_c \\\\\n",
    "I M & = P^{-1} M_c \\\\\n",
    "M & = P^{-1} M_c\n",
    "\\end{aligned}\n",
    "$\n",
    "\n",
    "\n",
    "## Descrição do projeto\n",
    "Neste projeto, faremos uma biblioteca Python para criptografia usando Enigma\n",
    "\n",
    "A biblioteca deve conter:\n",
    "* Uma função `para_one_hot(msg : str)` para codificar mensagens como uma matriz usando one-hot encoding\n",
    "* Uma função `para_string(M : np.array)` para converter mensagens da representação one-hot encoding para uma string legível\n",
    "* Uma função `cifrar(msg : str, P : np.array)` que aplica uma cifra simples em uma mensagem recebida como entrada e retorna a mensagem cifrada. `P` é a matriz de permutação que realiza a cifra.\n",
    "* Uma função `de_cifrar(msg : str, P : np.array)` que recupera uma mensagem cifrada, recebida como entrada, e retorna a mensagem original. `P` é a matriz de permutação que realiza a cifra.\n",
    "* Uma função `enigma(msg : str, P : np.array, E : np.array)` que faz a cifra enigma na mensagem de entrada usando o cifrador `P` e o cifrador auxiliar `E`, ambos representados como matrizes de permutação.\n",
    "* Uma função `de_enigma(msg : str, P : np.array, E : np.array)` que recupera uma mensagem cifrada como enigma assumindo que ela foi cifrada com o usando o cifrador `P` e o cifrador auxiliar `E`, ambos representados como matrizes de permutação.\n",
    "\n",
    "Anotações importantes:\n",
    "\n",
    "1. O grupo deve enviar um link para o repositório GitHub onde está localizada a biblioteca.\n",
    "2. No diretório principal do repositório, deve haver um programa `demo.py`, que, quando executado, demonstra o funcionamento de cada uma das funções da biblioteca\n",
    "\n",
    "\n",
    "**ENTREGAS**\n",
    "* Link para o repositório onde está a biblioteca.\n",
    "* No `README.md` do repositório, deve haver uma discussão sobre que equações foram implementadas para realizar a criptografia e a de-criptografia com Enigma.\n",
    "* Inclua também, no próprio `README.md`, instruções sobre como rodar o `demo.py` e como usar a biblioteca.\n",
    "* Também, inclua instruções sobre como executar procedimentos de teste rápidos. Serão testados: mensagens normais, mensagens com caracteres que não fazem parte do alfabeto, mensagens vazias.\n",
    "\n",
    "**RUBRICA**\n",
    "\n",
    "O projeto será avaliado usando a rubrica abaixo. Os níveis são cumulativos, isto é, para passar de um nível, *todos* os requisitos dele devem ser cumpridos. As rubricas foram inspiradas nos níveis da [Taxonomia de Bloom](https://cft.vanderbilt.edu/guides-sub-pages/blooms-taxonomy/).\n",
    "\n",
    "| Nível | Descrição | [Tax. de Bloom](https://cft.vanderbilt.edu/guides-sub-pages/blooms-taxonomy/) |\n",
    "| --- | --- | --- |\n",
    "| F | Não entregue, entregue sem completar o `README.md`, ou entregue sem implementar a criptografia Enigma | Não fez |\n",
    "| E | Entregue, mas o `README.md` não indica como instalar ou rodar o programa. | Entender (-) |\n",
    "| D | Roda com alguns travamentos ou erros ou o `README.md` não descreve o modelo matemático que foi aplicado. | Entender |\n",
    "| C | Funciona sem travar e o `README.md` está completo, mas falha nos casos de teste descritos na entrega. | Compreender |\n",
    "| B | A biblioteca funciona bem mas o código está muito confuso e sem comentários. | Aplicar |\n",
    "| A | A biblioteca obedece a todos os requisitos e o código tem uma correspondência imediata ao modelo matemático descrito no `README.md` | Analisar |\n",
    "| A+ | A biblioteca funciona perfeitamente e, em adição aos requisitos pedidos, tem um programa que permite que o algoritmo seja executado como uma API REST. | Analisar |\n",
    "| A++ | A biblioteca funciona perfeitamente e, em adição aos requisitos anteriores, pode ser instalada usando `pip install .`. | Analisar |"
   ]
  },
  {
   "cell_type": "markdown",
   "metadata": {},
   "source": []
  }
 ],
 "metadata": {
  "kernelspec": {
   "display_name": "Python 3",
   "language": "python",
   "name": "python3"
  },
  "language_info": {
   "codemirror_mode": {
    "name": "ipython",
    "version": 3
   },
   "file_extension": ".py",
   "mimetype": "text/x-python",
   "name": "python",
   "nbconvert_exporter": "python",
   "pygments_lexer": "ipython3",
<<<<<<< HEAD
   "version": "3.10.2"
=======
   "version": "3.9.10"
>>>>>>> e8ddb0b07887e78fa53d7f92b8d3973c3adff92c
  },
  "orig_nbformat": 4,
  "vscode": {
   "interpreter": {
<<<<<<< HEAD
    "hash": "e5d8c4730e4c3eae841293eccf2dd3fe40ecf8e4dc1b22f8858280b707d3ac24"
=======
    "hash": "aee8b7b246df8f9039afb4144a1f6fd8d2ca17a180786b69acc140d282b71a49"
>>>>>>> e8ddb0b07887e78fa53d7f92b8d3973c3adff92c
   }
  }
 },
 "nbformat": 4,
 "nbformat_minor": 2
}
